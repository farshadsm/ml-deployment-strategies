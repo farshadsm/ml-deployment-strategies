{
 "cells": [
  {
   "cell_type": "markdown",
   "metadata": {},
   "source": [
    "# TODO\n",
    "\n",
    "* Cleanup notebook\n",
    "* Add API calls to retrieve endpoint settings after each step\n",
    "* Perhaps add screenshots?"
   ]
  },
  {
   "cell_type": "markdown",
   "metadata": {},
   "source": [
    "# Setup\n",
    "---"
   ]
  },
  {
   "cell_type": "code",
   "execution_count": 1,
   "metadata": {},
   "outputs": [
    {
     "name": "stdout",
     "output_type": "stream",
     "text": [
      "/root/rollout-strategies\n"
     ]
    }
   ],
   "source": [
    "%cd /root/rollout-strategies/"
   ]
  },
  {
   "cell_type": "code",
   "execution_count": 2,
   "metadata": {},
   "outputs": [
    {
     "name": "stdout",
     "output_type": "stream",
     "text": [
      "Artifacts will be written to s3://talk-20200720\n",
      "Role ARN: arn:aws:iam::209970524256:role/service-role/AmazonSageMaker-ExecutionRole-20200618T144956\n"
     ]
    }
   ],
   "source": [
    "import pprint\n",
    "\n",
    "import boto3\n",
    "import pandas as pd\n",
    "from sagemaker import get_execution_role, s3, estimator\n",
    "import sagemaker\n",
    "\n",
    "BUCKET = 'talk-20200720'\n",
    "LOCAL_DATA_DIRECTORY = './data'\n",
    "print(f\"Artifacts will be written to s3://{BUCKET}\")\n",
    "\n",
    "# Session variables we'll use throughout the notebook\n",
    "sm_session = sagemaker.Session()\n",
    "boto_session = sm_session.boto_session\n",
    "sagemaker_client = boto_session.client('sagemaker')\n",
    "role = get_execution_role()\n",
    "print(f'Role ARN: {role}')"
   ]
  },
  {
   "cell_type": "markdown",
   "metadata": {},
   "source": [
    "## Upload Training and Validation Data to S3\n",
    "---"
   ]
  },
  {
   "cell_type": "markdown",
   "metadata": {},
   "source": [
    "To see how the dataset was preprocessed, see this notebook: [XGBoost customer churn notebook that starts with the original dataset](https://github.com/awslabs/amazon-sagemaker-examples/blob/master/introduction_to_applying_machine_learning/xgboost_customer_churn/xgboost_customer_churn.ipynb). "
   ]
  },
  {
   "cell_type": "code",
   "execution_count": 3,
   "metadata": {},
   "outputs": [
    {
     "data": {
      "text/html": [
       "<div>\n",
       "<style scoped>\n",
       "    .dataframe tbody tr th:only-of-type {\n",
       "        vertical-align: middle;\n",
       "    }\n",
       "\n",
       "    .dataframe tbody tr th {\n",
       "        vertical-align: top;\n",
       "    }\n",
       "\n",
       "    .dataframe thead th {\n",
       "        text-align: right;\n",
       "    }\n",
       "</style>\n",
       "<table border=\"1\" class=\"dataframe\">\n",
       "  <thead>\n",
       "    <tr style=\"text-align: right;\">\n",
       "      <th></th>\n",
       "      <th>Churn</th>\n",
       "      <th>Account Length</th>\n",
       "      <th>VMail Message</th>\n",
       "      <th>Day Mins</th>\n",
       "      <th>Day Calls</th>\n",
       "      <th>Eve Mins</th>\n",
       "      <th>Eve Calls</th>\n",
       "      <th>Night Mins</th>\n",
       "      <th>Night Calls</th>\n",
       "      <th>Intl Mins</th>\n",
       "      <th>...</th>\n",
       "      <th>State_WI</th>\n",
       "      <th>State_WV</th>\n",
       "      <th>State_WY</th>\n",
       "      <th>Area Code_408</th>\n",
       "      <th>Area Code_415</th>\n",
       "      <th>Area Code_510</th>\n",
       "      <th>Int'l Plan_no</th>\n",
       "      <th>Int'l Plan_yes</th>\n",
       "      <th>VMail Plan_no</th>\n",
       "      <th>VMail Plan_yes</th>\n",
       "    </tr>\n",
       "  </thead>\n",
       "  <tbody>\n",
       "    <tr>\n",
       "      <th>0</th>\n",
       "      <td>0</td>\n",
       "      <td>106</td>\n",
       "      <td>0</td>\n",
       "      <td>274.4</td>\n",
       "      <td>120</td>\n",
       "      <td>198.6</td>\n",
       "      <td>82</td>\n",
       "      <td>160.8</td>\n",
       "      <td>62</td>\n",
       "      <td>6.0</td>\n",
       "      <td>...</td>\n",
       "      <td>0</td>\n",
       "      <td>0</td>\n",
       "      <td>0</td>\n",
       "      <td>0</td>\n",
       "      <td>0</td>\n",
       "      <td>1</td>\n",
       "      <td>1</td>\n",
       "      <td>0</td>\n",
       "      <td>1</td>\n",
       "      <td>0</td>\n",
       "    </tr>\n",
       "    <tr>\n",
       "      <th>1</th>\n",
       "      <td>0</td>\n",
       "      <td>28</td>\n",
       "      <td>0</td>\n",
       "      <td>187.8</td>\n",
       "      <td>94</td>\n",
       "      <td>248.6</td>\n",
       "      <td>86</td>\n",
       "      <td>208.8</td>\n",
       "      <td>124</td>\n",
       "      <td>10.6</td>\n",
       "      <td>...</td>\n",
       "      <td>0</td>\n",
       "      <td>0</td>\n",
       "      <td>1</td>\n",
       "      <td>0</td>\n",
       "      <td>1</td>\n",
       "      <td>0</td>\n",
       "      <td>1</td>\n",
       "      <td>0</td>\n",
       "      <td>1</td>\n",
       "      <td>0</td>\n",
       "    </tr>\n",
       "    <tr>\n",
       "      <th>2</th>\n",
       "      <td>1</td>\n",
       "      <td>148</td>\n",
       "      <td>0</td>\n",
       "      <td>279.3</td>\n",
       "      <td>104</td>\n",
       "      <td>201.6</td>\n",
       "      <td>87</td>\n",
       "      <td>280.8</td>\n",
       "      <td>99</td>\n",
       "      <td>7.9</td>\n",
       "      <td>...</td>\n",
       "      <td>0</td>\n",
       "      <td>0</td>\n",
       "      <td>0</td>\n",
       "      <td>0</td>\n",
       "      <td>1</td>\n",
       "      <td>0</td>\n",
       "      <td>1</td>\n",
       "      <td>0</td>\n",
       "      <td>1</td>\n",
       "      <td>0</td>\n",
       "    </tr>\n",
       "    <tr>\n",
       "      <th>3</th>\n",
       "      <td>0</td>\n",
       "      <td>132</td>\n",
       "      <td>0</td>\n",
       "      <td>191.9</td>\n",
       "      <td>107</td>\n",
       "      <td>206.9</td>\n",
       "      <td>127</td>\n",
       "      <td>272.0</td>\n",
       "      <td>88</td>\n",
       "      <td>12.6</td>\n",
       "      <td>...</td>\n",
       "      <td>0</td>\n",
       "      <td>0</td>\n",
       "      <td>0</td>\n",
       "      <td>0</td>\n",
       "      <td>0</td>\n",
       "      <td>1</td>\n",
       "      <td>1</td>\n",
       "      <td>0</td>\n",
       "      <td>1</td>\n",
       "      <td>0</td>\n",
       "    </tr>\n",
       "    <tr>\n",
       "      <th>4</th>\n",
       "      <td>0</td>\n",
       "      <td>92</td>\n",
       "      <td>29</td>\n",
       "      <td>155.4</td>\n",
       "      <td>110</td>\n",
       "      <td>188.5</td>\n",
       "      <td>104</td>\n",
       "      <td>254.9</td>\n",
       "      <td>118</td>\n",
       "      <td>8.0</td>\n",
       "      <td>...</td>\n",
       "      <td>0</td>\n",
       "      <td>0</td>\n",
       "      <td>0</td>\n",
       "      <td>0</td>\n",
       "      <td>0</td>\n",
       "      <td>1</td>\n",
       "      <td>1</td>\n",
       "      <td>0</td>\n",
       "      <td>0</td>\n",
       "      <td>1</td>\n",
       "    </tr>\n",
       "  </tbody>\n",
       "</table>\n",
       "<p>5 rows × 70 columns</p>\n",
       "</div>"
      ],
      "text/plain": [
       "   Churn  Account Length  VMail Message  Day Mins  Day Calls  Eve Mins  \\\n",
       "0      0             106              0     274.4        120     198.6   \n",
       "1      0              28              0     187.8         94     248.6   \n",
       "2      1             148              0     279.3        104     201.6   \n",
       "3      0             132              0     191.9        107     206.9   \n",
       "4      0              92             29     155.4        110     188.5   \n",
       "\n",
       "   Eve Calls  Night Mins  Night Calls  Intl Mins  ...  State_WI  State_WV  \\\n",
       "0         82       160.8           62        6.0  ...         0         0   \n",
       "1         86       208.8          124       10.6  ...         0         0   \n",
       "2         87       280.8           99        7.9  ...         0         0   \n",
       "3        127       272.0           88       12.6  ...         0         0   \n",
       "4        104       254.9          118        8.0  ...         0         0   \n",
       "\n",
       "   State_WY  Area Code_408  Area Code_415  Area Code_510  Int'l Plan_no  \\\n",
       "0         0              0              0              1              1   \n",
       "1         1              0              1              0              1   \n",
       "2         0              0              1              0              1   \n",
       "3         0              0              0              1              1   \n",
       "4         0              0              0              1              1   \n",
       "\n",
       "   Int'l Plan_yes  VMail Plan_no  VMail Plan_yes  \n",
       "0               0              1               0  \n",
       "1               0              1               0  \n",
       "2               0              1               0  \n",
       "3               0              1               0  \n",
       "4               0              0               1  \n",
       "\n",
       "[5 rows x 70 columns]"
      ]
     },
     "execution_count": 3,
     "metadata": {},
     "output_type": "execute_result"
    }
   ],
   "source": [
    "data = pd.read_csv(f'{LOCAL_DATA_DIRECTORY}/training-dataset-with-header.csv')\n",
    "\n",
    "data.head()"
   ]
  },
  {
   "cell_type": "code",
   "execution_count": 3,
   "metadata": {},
   "outputs": [
    {
     "name": "stderr",
     "output_type": "stream",
     "text": [
      "'upload_data' method will be deprecated in favor of 'S3Uploader' class (https://sagemaker.readthedocs.io/en/stable/s3.html#sagemaker.s3.S3Uploader) in SageMaker Python SDK v2.\n",
      "'upload_data' method will be deprecated in favor of 'S3Uploader' class (https://sagemaker.readthedocs.io/en/stable/s3.html#sagemaker.s3.S3Uploader) in SageMaker Python SDK v2.\n",
      "'s3_input' class will be renamed to 'TrainingInput' in SageMaker Python SDK v2.\n",
      "'s3_input' class will be renamed to 'TrainingInput' in SageMaker Python SDK v2.\n"
     ]
    }
   ],
   "source": [
    "DATA_PREFIX = 'data'\n",
    "\n",
    "s3_input_train = sm_session.upload_data(f'{LOCAL_DATA_DIRECTORY}/train.csv',\n",
    "                                        bucket=BUCKET,\n",
    "                                        key_prefix=DATA_PREFIX)\n",
    "\n",
    "s3_input_validation = sm_session.upload_data(f'{LOCAL_DATA_DIRECTORY}/validation.csv',\n",
    "                                             bucket=BUCKET,\n",
    "                                             key_prefix=DATA_PREFIX)\n",
    "\n",
    "s3_input_train = sagemaker.s3_input(s3_data=s3_input_train, content_type='csv')\n",
    "s3_input_validation = sagemaker.s3_input(s3_data=s3_input_validation, content_type='csv')"
   ]
  },
  {
   "cell_type": "markdown",
   "metadata": {},
   "source": [
    "## Train Two XGBoost Models using different Hyperparameter Settings\n",
    "---"
   ]
  },
  {
   "cell_type": "code",
   "execution_count": 4,
   "metadata": {
    "collapsed": true,
    "jupyter": {
     "outputs_hidden": true
    }
   },
   "outputs": [
    {
     "name": "stderr",
     "output_type": "stream",
     "text": [
      "'get_image_uri' method will be deprecated in favor of 'ImageURIProvider' class in SageMaker Python SDK v2.\n",
      "WARNING:root:There is a more up to date SageMaker XGBoost image. To use the newer image, please set 'repo_version'='1.0-1'. For example:\n",
      "\tget_image_uri(region, 'xgboost', '1.0-1').\n",
      "WARNING:root:Parameter image_name will be renamed to image_uri in SageMaker Python SDK v2.\n",
      "WARNING:root:Parameter image_name will be renamed to image_uri in SageMaker Python SDK v2.\n"
     ]
    },
    {
     "name": "stdout",
     "output_type": "stream",
     "text": [
      "Training models using Docker image: 257758044811.dkr.ecr.us-east-2.amazonaws.com/sagemaker-xgboost:0.90-2-cpu-py3\n",
      "2020-07-05 13:09:26 Starting - Starting the training job...\n",
      "2020-07-05 13:09:28 Starting - Launching requested ML instances......\n",
      "2020-07-05 13:10:29 Starting - Preparing the instances for training...\n",
      "2020-07-05 13:11:18 Downloading - Downloading input data...\n",
      "2020-07-05 13:11:39 Training - Downloading the training image...\n",
      "2020-07-05 13:12:27 Uploading - Uploading generated training model\n",
      "2020-07-05 13:12:27 Completed - Training job completed\n",
      "\u001b[34mINFO:sagemaker-containers:Imported framework sagemaker_xgboost_container.training\u001b[0m\n",
      "\u001b[34mINFO:sagemaker-containers:Failed to parse hyperparameter objective value binary:logistic to Json.\u001b[0m\n",
      "\u001b[34mReturning the value itself\u001b[0m\n",
      "\u001b[34mINFO:sagemaker-containers:No GPUs detected (normal if no gpus installed)\u001b[0m\n",
      "\u001b[34mINFO:sagemaker_xgboost_container.training:Running XGBoost Sagemaker in algorithm mode\u001b[0m\n",
      "\u001b[34mINFO:root:Determined delimiter of CSV input is ','\u001b[0m\n",
      "\u001b[34mINFO:root:Determined delimiter of CSV input is ','\u001b[0m\n",
      "\u001b[34mINFO:root:Determined delimiter of CSV input is ','\u001b[0m\n",
      "\u001b[34m[13:12:17] 2333x69 matrix with 160977 entries loaded from /opt/ml/input/data/train?format=csv&label_column=0&delimiter=,\u001b[0m\n",
      "\u001b[34mINFO:root:Determined delimiter of CSV input is ','\u001b[0m\n",
      "\u001b[34m[13:12:17] 666x69 matrix with 45954 entries loaded from /opt/ml/input/data/validation?format=csv&label_column=0&delimiter=,\u001b[0m\n",
      "\u001b[34mINFO:root:Single node training.\u001b[0m\n",
      "\u001b[34mINFO:root:Train matrix has 2333 rows\u001b[0m\n",
      "\u001b[34mINFO:root:Validation matrix has 666 rows\u001b[0m\n",
      "\u001b[34m[0]#011train-error:0.100729#011validation-error:0.123123\u001b[0m\n",
      "\u001b[34m[1]#011train-error:0.093871#011validation-error:0.114114\u001b[0m\n",
      "\u001b[34m[2]#011train-error:0.099871#011validation-error:0.118619\u001b[0m\n",
      "\u001b[34m[3]#011train-error:0.0973#011validation-error:0.12012\u001b[0m\n",
      "\u001b[34m[4]#011train-error:0.0973#011validation-error:0.123123\u001b[0m\n",
      "\u001b[34m[5]#011train-error:0.098157#011validation-error:0.132132\u001b[0m\n",
      "\u001b[34m[6]#011train-error:0.092156#011validation-error:0.114114\u001b[0m\n",
      "\u001b[34m[7]#011train-error:0.090013#011validation-error:0.115616\u001b[0m\n",
      "\u001b[34m[8]#011train-error:0.08787#011validation-error:0.108108\u001b[0m\n",
      "\u001b[34m[9]#011train-error:0.079726#011validation-error:0.096096\u001b[0m\n",
      "\u001b[34m[10]#011train-error:0.073725#011validation-error:0.096096\u001b[0m\n",
      "\u001b[34m[11]#011train-error:0.072439#011validation-error:0.091592\u001b[0m\n",
      "\u001b[34m[12]#011train-error:0.065152#011validation-error:0.087087\u001b[0m\n",
      "\u001b[34m[13]#011train-error:0.05958#011validation-error:0.082583\u001b[0m\n",
      "\u001b[34m[14]#011train-error:0.061723#011validation-error:0.085586\u001b[0m\n",
      "\u001b[34m[15]#011train-error:0.064724#011validation-error:0.085586\u001b[0m\n",
      "\u001b[34m[16]#011train-error:0.061294#011validation-error:0.081081\u001b[0m\n",
      "\u001b[34m[17]#011train-error:0.062152#011validation-error:0.07958\u001b[0m\n",
      "\u001b[34m[18]#011train-error:0.061294#011validation-error:0.082583\u001b[0m\n",
      "\u001b[34m[19]#011train-error:0.057437#011validation-error:0.078078\u001b[0m\n",
      "\u001b[34m[20]#011train-error:0.05315#011validation-error:0.073574\u001b[0m\n",
      "\u001b[34m[21]#011train-error:0.05015#011validation-error:0.070571\u001b[0m\n",
      "\u001b[34m[22]#011train-error:0.047578#011validation-error:0.070571\u001b[0m\n",
      "\u001b[34m[23]#011train-error:0.043721#011validation-error:0.072072\u001b[0m\n",
      "\u001b[34m[24]#011train-error:0.044578#011validation-error:0.073574\u001b[0m\n",
      "\u001b[34m[25]#011train-error:0.046292#011validation-error:0.072072\u001b[0m\n",
      "\u001b[34m[26]#011train-error:0.043292#011validation-error:0.073574\u001b[0m\n",
      "\u001b[34m[27]#011train-error:0.045006#011validation-error:0.075075\u001b[0m\n",
      "\u001b[34m[28]#011train-error:0.045006#011validation-error:0.075075\u001b[0m\n",
      "\u001b[34m[29]#011train-error:0.045006#011validation-error:0.075075\u001b[0m\n",
      "\u001b[34m[30]#011train-error:0.045006#011validation-error:0.075075\u001b[0m\n",
      "\u001b[34m[31]#011train-error:0.045006#011validation-error:0.069069\u001b[0m\n",
      "\u001b[34m[32]#011train-error:0.044578#011validation-error:0.069069\u001b[0m\n",
      "\u001b[34m[33]#011train-error:0.046292#011validation-error:0.066066\u001b[0m\n",
      "\u001b[34m[34]#011train-error:0.044578#011validation-error:0.066066\u001b[0m\n",
      "\u001b[34m[35]#011train-error:0.043292#011validation-error:0.066066\u001b[0m\n",
      "\u001b[34m[36]#011train-error:0.043292#011validation-error:0.066066\u001b[0m\n",
      "\u001b[34m[37]#011train-error:0.042006#011validation-error:0.066066\u001b[0m\n",
      "\u001b[34m[38]#011train-error:0.041149#011validation-error:0.067568\u001b[0m\n",
      "\u001b[34m[39]#011train-error:0.042435#011validation-error:0.069069\u001b[0m\n",
      "\u001b[34m[40]#011train-error:0.041577#011validation-error:0.069069\u001b[0m\n",
      "\u001b[34m[41]#011train-error:0.043292#011validation-error:0.063063\u001b[0m\n",
      "\u001b[34m[42]#011train-error:0.041577#011validation-error:0.066066\u001b[0m\n",
      "\u001b[34m[43]#011train-error:0.04072#011validation-error:0.064565\u001b[0m\n",
      "\u001b[34m[44]#011train-error:0.039434#011validation-error:0.069069\u001b[0m\n",
      "\u001b[34m[45]#011train-error:0.039434#011validation-error:0.069069\u001b[0m\n",
      "\u001b[34m[46]#011train-error:0.040291#011validation-error:0.067568\u001b[0m\n",
      "\u001b[34m[47]#011train-error:0.04072#011validation-error:0.067568\u001b[0m\n",
      "\u001b[34m[48]#011train-error:0.040291#011validation-error:0.067568\u001b[0m\n",
      "\u001b[34m[49]#011train-error:0.040291#011validation-error:0.063063\u001b[0m\n",
      "\u001b[34m[50]#011train-error:0.039863#011validation-error:0.066066\u001b[0m\n",
      "\u001b[34m[51]#011train-error:0.039863#011validation-error:0.066066\u001b[0m\n",
      "\u001b[34m[52]#011train-error:0.039434#011validation-error:0.066066\u001b[0m\n",
      "\u001b[34m[53]#011train-error:0.039434#011validation-error:0.066066\u001b[0m\n",
      "\u001b[34m[54]#011train-error:0.038148#011validation-error:0.064565\u001b[0m\n",
      "\u001b[34m[55]#011train-error:0.038148#011validation-error:0.064565\u001b[0m\n",
      "\u001b[34m[56]#011train-error:0.038148#011validation-error:0.064565\u001b[0m\n",
      "\u001b[34m[57]#011train-error:0.039006#011validation-error:0.063063\u001b[0m\n",
      "\u001b[34m[58]#011train-error:0.036862#011validation-error:0.063063\u001b[0m\n",
      "\u001b[34m[59]#011train-error:0.036434#011validation-error:0.063063\u001b[0m\n",
      "\u001b[34m[60]#011train-error:0.036862#011validation-error:0.063063\u001b[0m\n",
      "\u001b[34m[61]#011train-error:0.036862#011validation-error:0.063063\u001b[0m\n",
      "\u001b[34m[62]#011train-error:0.037291#011validation-error:0.064565\u001b[0m\n",
      "\u001b[34m[63]#011train-error:0.037291#011validation-error:0.063063\u001b[0m\n",
      "\u001b[34m[64]#011train-error:0.036862#011validation-error:0.067568\u001b[0m\n",
      "\u001b[34m[65]#011train-error:0.03772#011validation-error:0.067568\u001b[0m\n",
      "\u001b[34m[66]#011train-error:0.035148#011validation-error:0.066066\u001b[0m\n",
      "\u001b[34m[67]#011train-error:0.035148#011validation-error:0.066066\u001b[0m\n",
      "\u001b[34m[68]#011train-error:0.034719#011validation-error:0.069069\u001b[0m\n",
      "\u001b[34m[69]#011train-error:0.033433#011validation-error:0.067568\u001b[0m\n",
      "\u001b[34m[70]#011train-error:0.033005#011validation-error:0.066066\u001b[0m\n",
      "\u001b[34m[71]#011train-error:0.033433#011validation-error:0.066066\u001b[0m\n",
      "\u001b[34m[72]#011train-error:0.034719#011validation-error:0.066066\u001b[0m\n",
      "\u001b[34m[73]#011train-error:0.035148#011validation-error:0.069069\u001b[0m\n",
      "\u001b[34m[74]#011train-error:0.036434#011validation-error:0.070571\u001b[0m\n",
      "\u001b[34m[75]#011train-error:0.036862#011validation-error:0.070571\u001b[0m\n",
      "\u001b[34m[76]#011train-error:0.036434#011validation-error:0.069069\u001b[0m\n",
      "\u001b[34m[77]#011train-error:0.036434#011validation-error:0.070571\u001b[0m\n",
      "\u001b[34m[78]#011train-error:0.036434#011validation-error:0.069069\u001b[0m\n",
      "\u001b[34m[79]#011train-error:0.036434#011validation-error:0.069069\u001b[0m\n",
      "\u001b[34m[80]#011train-error:0.036005#011validation-error:0.067568\u001b[0m\n",
      "\u001b[34m[81]#011train-error:0.036434#011validation-error:0.070571\u001b[0m\n",
      "\u001b[34m[82]#011train-error:0.036434#011validation-error:0.069069\u001b[0m\n",
      "\u001b[34m[83]#011train-error:0.036005#011validation-error:0.066066\u001b[0m\n",
      "\u001b[34m[84]#011train-error:0.035148#011validation-error:0.064565\u001b[0m\n",
      "\u001b[34m[85]#011train-error:0.036005#011validation-error:0.067568\u001b[0m\n",
      "\u001b[34m[86]#011train-error:0.036005#011validation-error:0.067568\u001b[0m\n",
      "\u001b[34m[87]#011train-error:0.036005#011validation-error:0.066066\u001b[0m\n",
      "\u001b[34m[88]#011train-error:0.034291#011validation-error:0.069069\u001b[0m\n",
      "\u001b[34m[89]#011train-error:0.033862#011validation-error:0.063063\u001b[0m\n",
      "\u001b[34m[90]#011train-error:0.032576#011validation-error:0.064565\u001b[0m\n",
      "\u001b[34m[91]#011train-error:0.032147#011validation-error:0.064565\u001b[0m\n",
      "\u001b[34m[92]#011train-error:0.031719#011validation-error:0.066066\u001b[0m\n",
      "\u001b[34m[93]#011train-error:0.031719#011validation-error:0.064565\u001b[0m\n",
      "\u001b[34m[94]#011train-error:0.032576#011validation-error:0.067568\u001b[0m\n",
      "\u001b[34m[95]#011train-error:0.032576#011validation-error:0.067568\u001b[0m\n",
      "\u001b[34m[96]#011train-error:0.032576#011validation-error:0.067568\u001b[0m\n",
      "\u001b[34m[97]#011train-error:0.031719#011validation-error:0.069069\u001b[0m\n",
      "\u001b[34m[98]#011train-error:0.031719#011validation-error:0.069069\u001b[0m\n",
      "\u001b[34m[99]#011train-error:0.031719#011validation-error:0.069069\u001b[0m\n",
      "\u001b[34m[100]#011train-error:0.03129#011validation-error:0.070571\u001b[0m\n",
      "\u001b[34m[101]#011train-error:0.031719#011validation-error:0.066066\u001b[0m\n",
      "\u001b[34m[102]#011train-error:0.032576#011validation-error:0.066066\u001b[0m\n",
      "\u001b[34m[103]#011train-error:0.033433#011validation-error:0.067568\u001b[0m\n",
      "\u001b[34m[104]#011train-error:0.030862#011validation-error:0.067568\u001b[0m\n",
      "\u001b[34m[105]#011train-error:0.031719#011validation-error:0.066066\u001b[0m\n",
      "\u001b[34m[106]#011train-error:0.031719#011validation-error:0.064565\u001b[0m\n",
      "\u001b[34m[107]#011train-error:0.031719#011validation-error:0.066066\u001b[0m\n",
      "\u001b[34m[108]#011train-error:0.031719#011validation-error:0.066066\u001b[0m\n",
      "\u001b[34m[109]#011train-error:0.03129#011validation-error:0.066066\u001b[0m\n",
      "\u001b[34m[110]#011train-error:0.03129#011validation-error:0.066066\u001b[0m\n",
      "\u001b[34m[111]#011train-error:0.031719#011validation-error:0.069069\u001b[0m\n",
      "\u001b[34m[112]#011train-error:0.03129#011validation-error:0.067568\u001b[0m\n",
      "\u001b[34m[113]#011train-error:0.03129#011validation-error:0.067568\u001b[0m\n",
      "\u001b[34m[114]#011train-error:0.030433#011validation-error:0.066066\u001b[0m\n",
      "\u001b[34m[115]#011train-error:0.030433#011validation-error:0.066066\u001b[0m\n",
      "\u001b[34m[116]#011train-error:0.030433#011validation-error:0.067568\u001b[0m\n",
      "\u001b[34m[117]#011train-error:0.030862#011validation-error:0.066066\u001b[0m\n",
      "\u001b[34m[118]#011train-error:0.030862#011validation-error:0.066066\u001b[0m\n",
      "\u001b[34m[119]#011train-error:0.030862#011validation-error:0.066066\u001b[0m\n",
      "\u001b[34m[120]#011train-error:0.030862#011validation-error:0.066066\u001b[0m\n",
      "\u001b[34m[121]#011train-error:0.030862#011validation-error:0.067568\u001b[0m\n",
      "\u001b[34m[122]#011train-error:0.030862#011validation-error:0.064565\u001b[0m\n",
      "\u001b[34m[123]#011train-error:0.030433#011validation-error:0.066066\u001b[0m\n",
      "\u001b[34m[124]#011train-error:0.030862#011validation-error:0.064565\u001b[0m\n",
      "\u001b[34m[125]#011train-error:0.030004#011validation-error:0.067568\u001b[0m\n",
      "\u001b[34m[126]#011train-error:0.029576#011validation-error:0.067568\u001b[0m\n",
      "\u001b[34m[127]#011train-error:0.030004#011validation-error:0.067568\u001b[0m\n",
      "\u001b[34m[128]#011train-error:0.030004#011validation-error:0.067568\u001b[0m\n",
      "\u001b[34m[129]#011train-error:0.029576#011validation-error:0.067568\u001b[0m\n",
      "\u001b[34m[130]#011train-error:0.030004#011validation-error:0.067568\u001b[0m\n",
      "\u001b[34m[131]#011train-error:0.030004#011validation-error:0.067568\u001b[0m\n",
      "\u001b[34m[132]#011train-error:0.030004#011validation-error:0.067568\u001b[0m\n",
      "\u001b[34m[133]#011train-error:0.030862#011validation-error:0.069069\u001b[0m\n",
      "\u001b[34m[134]#011train-error:0.030862#011validation-error:0.067568\u001b[0m\n",
      "\u001b[34m[135]#011train-error:0.030862#011validation-error:0.069069\u001b[0m\n",
      "\u001b[34m[136]#011train-error:0.030433#011validation-error:0.070571\u001b[0m\n",
      "\u001b[34m[137]#011train-error:0.030004#011validation-error:0.069069\u001b[0m\n",
      "\u001b[34m[138]#011train-error:0.030433#011validation-error:0.069069\u001b[0m\n",
      "\u001b[34m[139]#011train-error:0.030862#011validation-error:0.066066\u001b[0m\n",
      "\u001b[34m[140]#011train-error:0.030862#011validation-error:0.066066\u001b[0m\n",
      "\u001b[34m[141]#011train-error:0.03129#011validation-error:0.066066\u001b[0m\n",
      "\u001b[34m[142]#011train-error:0.030862#011validation-error:0.066066\u001b[0m\n",
      "\u001b[34m[143]#011train-error:0.030862#011validation-error:0.066066\u001b[0m\n",
      "\u001b[34m[144]#011train-error:0.030433#011validation-error:0.067568\u001b[0m\n",
      "\u001b[34m[145]#011train-error:0.029576#011validation-error:0.066066\u001b[0m\n",
      "\u001b[34m[146]#011train-error:0.029576#011validation-error:0.067568\u001b[0m\n",
      "\u001b[34m[147]#011train-error:0.030004#011validation-error:0.067568\u001b[0m\n",
      "\u001b[34m[148]#011train-error:0.030862#011validation-error:0.064565\u001b[0m\n",
      "\u001b[34m[149]#011train-error:0.030862#011validation-error:0.064565\u001b[0m\n",
      "\u001b[34m[150]#011train-error:0.030433#011validation-error:0.067568\u001b[0m\n",
      "\u001b[34m[151]#011train-error:0.030862#011validation-error:0.067568\u001b[0m\n",
      "\u001b[34m[152]#011train-error:0.03129#011validation-error:0.069069\u001b[0m\n",
      "\u001b[34m[153]#011train-error:0.03129#011validation-error:0.067568\u001b[0m\n",
      "\u001b[34m[154]#011train-error:0.03129#011validation-error:0.067568\u001b[0m\n",
      "\u001b[34m[155]#011train-error:0.03129#011validation-error:0.067568\u001b[0m\n",
      "\u001b[34m[156]#011train-error:0.03129#011validation-error:0.067568\u001b[0m\n",
      "\u001b[34m[157]#011train-error:0.032147#011validation-error:0.069069\u001b[0m\n",
      "\u001b[34m[158]#011train-error:0.030862#011validation-error:0.066066\u001b[0m\n",
      "\u001b[34m[159]#011train-error:0.030862#011validation-error:0.066066\u001b[0m\n",
      "\u001b[34m[160]#011train-error:0.030433#011validation-error:0.066066\u001b[0m\n",
      "\u001b[34m[161]#011train-error:0.030433#011validation-error:0.066066\u001b[0m\n",
      "\u001b[34m[162]#011train-error:0.030433#011validation-error:0.066066\u001b[0m\n",
      "\u001b[34m[163]#011train-error:0.030862#011validation-error:0.066066\u001b[0m\n",
      "\u001b[34m[164]#011train-error:0.029576#011validation-error:0.066066\u001b[0m\n",
      "\u001b[34m[165]#011train-error:0.029576#011validation-error:0.066066\u001b[0m\n",
      "\u001b[34m[166]#011train-error:0.029576#011validation-error:0.064565\u001b[0m\n",
      "\u001b[34m[167]#011train-error:0.030004#011validation-error:0.066066\u001b[0m\n",
      "\u001b[34m[168]#011train-error:0.030433#011validation-error:0.066066\u001b[0m\n",
      "\u001b[34m[169]#011train-error:0.030004#011validation-error:0.066066\u001b[0m\n",
      "\u001b[34m[170]#011train-error:0.028718#011validation-error:0.066066\u001b[0m\n",
      "\u001b[34m[171]#011train-error:0.028718#011validation-error:0.066066\u001b[0m\n",
      "\u001b[34m[172]#011train-error:0.028718#011validation-error:0.064565\u001b[0m\n",
      "\u001b[34m[173]#011train-error:0.028718#011validation-error:0.066066\u001b[0m\n",
      "\u001b[34m[174]#011train-error:0.028718#011validation-error:0.066066\u001b[0m\n",
      "\u001b[34m[175]#011train-error:0.028718#011validation-error:0.066066\u001b[0m\n",
      "\u001b[34m[176]#011train-error:0.028718#011validation-error:0.066066\u001b[0m\n",
      "\u001b[34m[177]#011train-error:0.028718#011validation-error:0.064565\u001b[0m\n",
      "\u001b[34m[178]#011train-error:0.029147#011validation-error:0.066066\u001b[0m\n",
      "\u001b[34m[179]#011train-error:0.029147#011validation-error:0.066066\u001b[0m\n",
      "\u001b[34m[180]#011train-error:0.027861#011validation-error:0.066066\u001b[0m\n",
      "\u001b[34m[181]#011train-error:0.027861#011validation-error:0.066066\u001b[0m\n",
      "\u001b[34m[182]#011train-error:0.027861#011validation-error:0.064565\u001b[0m\n",
      "\u001b[34m[183]#011train-error:0.027861#011validation-error:0.064565\u001b[0m\n",
      "\u001b[34m[184]#011train-error:0.027861#011validation-error:0.066066\u001b[0m\n",
      "\u001b[34m[185]#011train-error:0.027861#011validation-error:0.066066\u001b[0m\n",
      "\u001b[34m[186]#011train-error:0.02829#011validation-error:0.064565\u001b[0m\n",
      "\u001b[34m[187]#011train-error:0.028718#011validation-error:0.064565\u001b[0m\n",
      "\u001b[34m[188]#011train-error:0.027861#011validation-error:0.064565\u001b[0m\n",
      "\u001b[34m[189]#011train-error:0.027861#011validation-error:0.064565\u001b[0m\n",
      "\u001b[34m[190]#011train-error:0.028718#011validation-error:0.066066\u001b[0m\n",
      "\u001b[34m[191]#011train-error:0.02829#011validation-error:0.064565\u001b[0m\n",
      "\u001b[34m[192]#011train-error:0.02829#011validation-error:0.064565\u001b[0m\n",
      "\u001b[34m[193]#011train-error:0.028718#011validation-error:0.064565\u001b[0m\n",
      "\u001b[34m[194]#011train-error:0.027861#011validation-error:0.064565\u001b[0m\n",
      "\u001b[34m[195]#011train-error:0.027861#011validation-error:0.064565\u001b[0m\n",
      "\u001b[34m[196]#011train-error:0.027861#011validation-error:0.064565\u001b[0m\n",
      "\u001b[34m[197]#011train-error:0.027861#011validation-error:0.064565\u001b[0m\n",
      "\u001b[34m[198]#011train-error:0.027861#011validation-error:0.063063\u001b[0m\n",
      "\u001b[34m[199]#011train-error:0.027432#011validation-error:0.066066\u001b[0m\n",
      "\u001b[34m[200]#011train-error:0.027432#011validation-error:0.066066\u001b[0m\n",
      "\u001b[34m[201]#011train-error:0.027861#011validation-error:0.067568\u001b[0m\n",
      "\u001b[34m[202]#011train-error:0.027432#011validation-error:0.067568\u001b[0m\n",
      "\u001b[34m[203]#011train-error:0.026147#011validation-error:0.067568\u001b[0m\n",
      "\u001b[34m[204]#011train-error:0.026147#011validation-error:0.067568\u001b[0m\n",
      "\u001b[34m[205]#011train-error:0.026147#011validation-error:0.069069\u001b[0m\n",
      "\u001b[34m[206]#011train-error:0.027432#011validation-error:0.069069\u001b[0m\n",
      "\u001b[34m[207]#011train-error:0.027432#011validation-error:0.069069\u001b[0m\n",
      "\u001b[34m[208]#011train-error:0.027432#011validation-error:0.067568\u001b[0m\n",
      "\u001b[34m[209]#011train-error:0.027432#011validation-error:0.069069\u001b[0m\n",
      "\u001b[34m[210]#011train-error:0.027432#011validation-error:0.069069\u001b[0m\n",
      "\u001b[34m[211]#011train-error:0.027432#011validation-error:0.067568\u001b[0m\n",
      "\u001b[34m[212]#011train-error:0.027432#011validation-error:0.069069\u001b[0m\n",
      "\u001b[34m[213]#011train-error:0.027432#011validation-error:0.069069\u001b[0m\n",
      "\u001b[34m[214]#011train-error:0.025718#011validation-error:0.066066\u001b[0m\n",
      "\u001b[34m[215]#011train-error:0.026147#011validation-error:0.067568\u001b[0m\n",
      "\u001b[34m[216]#011train-error:0.026147#011validation-error:0.067568\u001b[0m\n",
      "\u001b[34m[217]#011train-error:0.025718#011validation-error:0.066066\u001b[0m\n",
      "\u001b[34m[218]#011train-error:0.027432#011validation-error:0.066066\u001b[0m\n",
      "\u001b[34m[219]#011train-error:0.027861#011validation-error:0.066066\u001b[0m\n",
      "\u001b[34m[220]#011train-error:0.027432#011validation-error:0.066066\u001b[0m\n",
      "\u001b[34m[221]#011train-error:0.027432#011validation-error:0.066066\u001b[0m\n",
      "\u001b[34m[222]#011train-error:0.027004#011validation-error:0.066066\u001b[0m\n",
      "\u001b[34m[223]#011train-error:0.027432#011validation-error:0.066066\u001b[0m\n",
      "\u001b[34m[224]#011train-error:0.027861#011validation-error:0.066066\u001b[0m\n",
      "\u001b[34m[225]#011train-error:0.027861#011validation-error:0.066066\u001b[0m\n",
      "\u001b[34m[226]#011train-error:0.027004#011validation-error:0.067568\u001b[0m\n",
      "\u001b[34m[227]#011train-error:0.026575#011validation-error:0.067568\u001b[0m\n",
      "\u001b[34m[228]#011train-error:0.026575#011validation-error:0.067568\u001b[0m\n",
      "\u001b[34m[229]#011train-error:0.026575#011validation-error:0.067568\u001b[0m\n",
      "\u001b[34m[230]#011train-error:0.026575#011validation-error:0.067568\u001b[0m\n",
      "\u001b[34m[231]#011train-error:0.026575#011validation-error:0.067568\u001b[0m\n",
      "\u001b[34m[232]#011train-error:0.026575#011validation-error:0.067568\u001b[0m\n",
      "\u001b[34m[233]#011train-error:0.026575#011validation-error:0.069069\u001b[0m\n",
      "\u001b[34m[234]#011train-error:0.026147#011validation-error:0.069069\u001b[0m\n",
      "\u001b[34m[235]#011train-error:0.025718#011validation-error:0.069069\u001b[0m\n",
      "\u001b[34m[236]#011train-error:0.025718#011validation-error:0.069069\u001b[0m\n",
      "\u001b[34m[237]#011train-error:0.026147#011validation-error:0.070571\u001b[0m\n",
      "\u001b[34m[238]#011train-error:0.026575#011validation-error:0.069069\u001b[0m\n",
      "\u001b[34m[239]#011train-error:0.027004#011validation-error:0.069069\u001b[0m\n",
      "\u001b[34m[240]#011train-error:0.027432#011validation-error:0.069069\u001b[0m\n",
      "\u001b[34m[241]#011train-error:0.026575#011validation-error:0.066066\u001b[0m\n",
      "\u001b[34m[242]#011train-error:0.026575#011validation-error:0.066066\u001b[0m\n",
      "\u001b[34m[243]#011train-error:0.027861#011validation-error:0.067568\u001b[0m\n",
      "\u001b[34m[244]#011train-error:0.02829#011validation-error:0.067568\u001b[0m\n",
      "\u001b[34m[245]#011train-error:0.028718#011validation-error:0.066066\u001b[0m\n",
      "\u001b[34m[246]#011train-error:0.028718#011validation-error:0.066066\u001b[0m\n",
      "\u001b[34m[247]#011train-error:0.02829#011validation-error:0.067568\u001b[0m\n",
      "\u001b[34m[248]#011train-error:0.02829#011validation-error:0.066066\u001b[0m\n",
      "\u001b[34m[249]#011train-error:0.02829#011validation-error:0.066066\u001b[0m\n",
      "\u001b[34m[250]#011train-error:0.02829#011validation-error:0.066066\u001b[0m\n",
      "\u001b[34m[251]#011train-error:0.02829#011validation-error:0.066066\u001b[0m\n",
      "\u001b[34m[252]#011train-error:0.02829#011validation-error:0.066066\u001b[0m\n",
      "\u001b[34m[253]#011train-error:0.02829#011validation-error:0.066066\u001b[0m\n",
      "\u001b[34m[254]#011train-error:0.027004#011validation-error:0.066066\u001b[0m\n",
      "\u001b[34m[255]#011train-error:0.027432#011validation-error:0.066066\u001b[0m\n",
      "\u001b[34m[256]#011train-error:0.027861#011validation-error:0.066066\u001b[0m\n",
      "\u001b[34m[257]#011train-error:0.026575#011validation-error:0.066066\u001b[0m\n",
      "\u001b[34m[258]#011train-error:0.026575#011validation-error:0.066066\u001b[0m\n",
      "\u001b[34m[259]#011train-error:0.026147#011validation-error:0.066066\u001b[0m\n",
      "\u001b[34m[260]#011train-error:0.026147#011validation-error:0.066066\u001b[0m\n",
      "\u001b[34m[261]#011train-error:0.026147#011validation-error:0.067568\u001b[0m\n",
      "\u001b[34m[262]#011train-error:0.025718#011validation-error:0.066066\u001b[0m\n",
      "\u001b[34m[263]#011train-error:0.025289#011validation-error:0.066066\u001b[0m\n",
      "\u001b[34m[264]#011train-error:0.025289#011validation-error:0.066066\u001b[0m\n",
      "\u001b[34m[265]#011train-error:0.025289#011validation-error:0.067568\u001b[0m\n",
      "\u001b[34m[266]#011train-error:0.025289#011validation-error:0.067568\u001b[0m\n",
      "\u001b[34m[267]#011train-error:0.024432#011validation-error:0.064565\u001b[0m\n",
      "\u001b[34m[268]#011train-error:0.024861#011validation-error:0.066066\u001b[0m\n",
      "\u001b[34m[269]#011train-error:0.024861#011validation-error:0.066066\u001b[0m\n",
      "\u001b[34m[270]#011train-error:0.025289#011validation-error:0.066066\u001b[0m\n",
      "\u001b[34m[271]#011train-error:0.024861#011validation-error:0.066066\u001b[0m\n",
      "\u001b[34m[272]#011train-error:0.024861#011validation-error:0.066066\u001b[0m\n",
      "\u001b[34m[273]#011train-error:0.024861#011validation-error:0.066066\u001b[0m\n",
      "\u001b[34m[274]#011train-error:0.024861#011validation-error:0.066066\u001b[0m\n",
      "\u001b[34m[275]#011train-error:0.024432#011validation-error:0.066066\u001b[0m\n",
      "\u001b[34m[276]#011train-error:0.024432#011validation-error:0.066066\u001b[0m\n",
      "\u001b[34m[277]#011train-error:0.025289#011validation-error:0.066066\u001b[0m\n",
      "\u001b[34m[278]#011train-error:0.025718#011validation-error:0.066066\u001b[0m\n",
      "\u001b[34m[279]#011train-error:0.025289#011validation-error:0.066066\u001b[0m\n",
      "\u001b[34m[280]#011train-error:0.026147#011validation-error:0.066066\u001b[0m\n",
      "\u001b[34m[281]#011train-error:0.025289#011validation-error:0.066066\u001b[0m\n",
      "\u001b[34m[282]#011train-error:0.025718#011validation-error:0.066066\u001b[0m\n",
      "\u001b[34m[283]#011train-error:0.025718#011validation-error:0.066066\u001b[0m\n",
      "\u001b[34m[284]#011train-error:0.025718#011validation-error:0.066066\u001b[0m\n",
      "\u001b[34m[285]#011train-error:0.025718#011validation-error:0.066066\u001b[0m\n",
      "\u001b[34m[286]#011train-error:0.025718#011validation-error:0.066066\u001b[0m\n",
      "\u001b[34m[287]#011train-error:0.025718#011validation-error:0.066066\u001b[0m\n",
      "\u001b[34m[288]#011train-error:0.025289#011validation-error:0.066066\u001b[0m\n",
      "\u001b[34m[289]#011train-error:0.025289#011validation-error:0.066066\u001b[0m\n",
      "\u001b[34m[290]#011train-error:0.025289#011validation-error:0.066066\u001b[0m\n",
      "\u001b[34m[291]#011train-error:0.025718#011validation-error:0.066066\u001b[0m\n",
      "\u001b[34m[292]#011train-error:0.025289#011validation-error:0.066066\u001b[0m\n",
      "\u001b[34m[293]#011train-error:0.025289#011validation-error:0.066066\u001b[0m\n",
      "\u001b[34m[294]#011train-error:0.025289#011validation-error:0.066066\u001b[0m\n",
      "\u001b[34m[295]#011train-error:0.025289#011validation-error:0.066066\u001b[0m\n",
      "\u001b[34m[296]#011train-error:0.025289#011validation-error:0.066066\u001b[0m\n",
      "\u001b[34m[297]#011train-error:0.025289#011validation-error:0.066066\u001b[0m\n",
      "\u001b[34m[298]#011train-error:0.025289#011validation-error:0.066066\u001b[0m\n",
      "\u001b[34m[299]#011train-error:0.025718#011validation-error:0.066066\u001b[0m\n",
      "\u001b[34m[300]#011train-error:0.025718#011validation-error:0.066066\u001b[0m\n",
      "\u001b[34m[301]#011train-error:0.025718#011validation-error:0.066066\u001b[0m\n",
      "\u001b[34m[302]#011train-error:0.025289#011validation-error:0.066066\u001b[0m\n",
      "\u001b[34m[303]#011train-error:0.025718#011validation-error:0.064565\u001b[0m\n",
      "\u001b[34m[304]#011train-error:0.025718#011validation-error:0.066066\u001b[0m\n",
      "\u001b[34m[305]#011train-error:0.025718#011validation-error:0.066066\u001b[0m\n",
      "\u001b[34m[306]#011train-error:0.025718#011validation-error:0.066066\u001b[0m\n",
      "\u001b[34m[307]#011train-error:0.025289#011validation-error:0.064565\u001b[0m\n",
      "\u001b[34m[308]#011train-error:0.024861#011validation-error:0.064565\u001b[0m\n",
      "\u001b[34m[309]#011train-error:0.025289#011validation-error:0.064565\u001b[0m\n",
      "\u001b[34m[310]#011train-error:0.025289#011validation-error:0.064565\u001b[0m\n",
      "\u001b[34m[311]#011train-error:0.025289#011validation-error:0.064565\u001b[0m\n",
      "\u001b[34m[312]#011train-error:0.025289#011validation-error:0.064565\u001b[0m\n",
      "\u001b[34m[313]#011train-error:0.024861#011validation-error:0.066066\u001b[0m\n",
      "\u001b[34m[314]#011train-error:0.024861#011validation-error:0.066066\u001b[0m\n",
      "\u001b[34m[315]#011train-error:0.024432#011validation-error:0.066066\u001b[0m\n",
      "\u001b[34m[316]#011train-error:0.024861#011validation-error:0.066066\u001b[0m\n",
      "\u001b[34m[317]#011train-error:0.024861#011validation-error:0.066066\u001b[0m\n",
      "\u001b[34m[318]#011train-error:0.024861#011validation-error:0.066066\u001b[0m\n",
      "\u001b[34m[319]#011train-error:0.024861#011validation-error:0.066066\u001b[0m\n",
      "\u001b[34m[320]#011train-error:0.024861#011validation-error:0.066066\u001b[0m\n",
      "\u001b[34m[321]#011train-error:0.024861#011validation-error:0.066066\u001b[0m\n",
      "\u001b[34m[322]#011train-error:0.024861#011validation-error:0.066066\u001b[0m\n",
      "\u001b[34m[323]#011train-error:0.024861#011validation-error:0.066066\u001b[0m\n",
      "\u001b[34m[324]#011train-error:0.024861#011validation-error:0.066066\u001b[0m\n",
      "\u001b[34m[325]#011train-error:0.024861#011validation-error:0.066066\u001b[0m\n",
      "\u001b[34m[326]#011train-error:0.024861#011validation-error:0.066066\u001b[0m\n",
      "\u001b[34m[327]#011train-error:0.025289#011validation-error:0.067568\u001b[0m\n",
      "\u001b[34m[328]#011train-error:0.026147#011validation-error:0.069069\u001b[0m\n",
      "\u001b[34m[329]#011train-error:0.025718#011validation-error:0.069069\u001b[0m\n",
      "\u001b[34m[330]#011train-error:0.025718#011validation-error:0.069069\u001b[0m\n",
      "\u001b[34m[331]#011train-error:0.025718#011validation-error:0.069069\u001b[0m\n",
      "\u001b[34m[332]#011train-error:0.025718#011validation-error:0.069069\u001b[0m\n",
      "\u001b[34m[333]#011train-error:0.025718#011validation-error:0.069069\u001b[0m\n",
      "\u001b[34m[334]#011train-error:0.026575#011validation-error:0.069069\u001b[0m\n",
      "\u001b[34m[335]#011train-error:0.026575#011validation-error:0.069069\u001b[0m\n",
      "\u001b[34m[336]#011train-error:0.025718#011validation-error:0.069069\u001b[0m\n",
      "\u001b[34m[337]#011train-error:0.024861#011validation-error:0.067568\u001b[0m\n",
      "\u001b[34m[338]#011train-error:0.024861#011validation-error:0.067568\u001b[0m\n",
      "\u001b[34m[339]#011train-error:0.024861#011validation-error:0.067568\u001b[0m\n",
      "\u001b[34m[340]#011train-error:0.024432#011validation-error:0.067568\u001b[0m\n",
      "\u001b[34m[341]#011train-error:0.024432#011validation-error:0.067568\u001b[0m\n",
      "\u001b[34m[342]#011train-error:0.024861#011validation-error:0.067568\u001b[0m\n",
      "\u001b[34m[343]#011train-error:0.024861#011validation-error:0.067568\u001b[0m\n",
      "\u001b[34m[344]#011train-error:0.024432#011validation-error:0.067568\u001b[0m\n",
      "\u001b[34m[345]#011train-error:0.025289#011validation-error:0.066066\u001b[0m\n",
      "\u001b[34m[346]#011train-error:0.025289#011validation-error:0.067568\u001b[0m\n",
      "\u001b[34m[347]#011train-error:0.025289#011validation-error:0.067568\u001b[0m\n",
      "\u001b[34m[348]#011train-error:0.025289#011validation-error:0.067568\u001b[0m\n",
      "\u001b[34m[349]#011train-error:0.025718#011validation-error:0.069069\u001b[0m\n",
      "\u001b[34m[350]#011train-error:0.025289#011validation-error:0.069069\u001b[0m\n",
      "\u001b[34m[351]#011train-error:0.025718#011validation-error:0.069069\u001b[0m\n",
      "\u001b[34m[352]#011train-error:0.025718#011validation-error:0.069069\u001b[0m\n",
      "\u001b[34m[353]#011train-error:0.025718#011validation-error:0.069069\u001b[0m\n",
      "\u001b[34m[354]#011train-error:0.025289#011validation-error:0.069069\u001b[0m\n",
      "\u001b[34m[355]#011train-error:0.025718#011validation-error:0.069069\u001b[0m\n",
      "\u001b[34m[356]#011train-error:0.025718#011validation-error:0.069069\u001b[0m\n",
      "\u001b[34m[357]#011train-error:0.026147#011validation-error:0.067568\u001b[0m\n",
      "\u001b[34m[358]#011train-error:0.025718#011validation-error:0.067568\u001b[0m\n",
      "\u001b[34m[359]#011train-error:0.025289#011validation-error:0.067568\u001b[0m\n",
      "\u001b[34m[360]#011train-error:0.025289#011validation-error:0.067568\u001b[0m\n",
      "\u001b[34m[361]#011train-error:0.025289#011validation-error:0.067568\u001b[0m\n",
      "\u001b[34m[362]#011train-error:0.025289#011validation-error:0.067568\u001b[0m\n",
      "\u001b[34m[363]#011train-error:0.024432#011validation-error:0.066066\u001b[0m\n",
      "\u001b[34m[364]#011train-error:0.025289#011validation-error:0.066066\u001b[0m\n",
      "\u001b[34m[365]#011train-error:0.026147#011validation-error:0.066066\u001b[0m\n",
      "\u001b[34m[366]#011train-error:0.026147#011validation-error:0.066066\u001b[0m\n",
      "\u001b[34m[367]#011train-error:0.026147#011validation-error:0.066066\u001b[0m\n",
      "\u001b[34m[368]#011train-error:0.024861#011validation-error:0.064565\u001b[0m\n",
      "\u001b[34m[369]#011train-error:0.024861#011validation-error:0.064565\u001b[0m\n",
      "\u001b[34m[370]#011train-error:0.024432#011validation-error:0.067568\u001b[0m\n",
      "\u001b[34m[371]#011train-error:0.024432#011validation-error:0.067568\u001b[0m\n",
      "\u001b[34m[372]#011train-error:0.024432#011validation-error:0.067568\u001b[0m\n",
      "\u001b[34m[373]#011train-error:0.024432#011validation-error:0.067568\u001b[0m\n",
      "\u001b[34m[374]#011train-error:0.024432#011validation-error:0.067568\u001b[0m\n",
      "\u001b[34m[375]#011train-error:0.024432#011validation-error:0.066066\u001b[0m\n",
      "\u001b[34m[376]#011train-error:0.024432#011validation-error:0.066066\u001b[0m\n",
      "\u001b[34m[377]#011train-error:0.024432#011validation-error:0.066066\u001b[0m\n",
      "\u001b[34m[378]#011train-error:0.024432#011validation-error:0.066066\u001b[0m\n",
      "\u001b[34m[379]#011train-error:0.024432#011validation-error:0.066066\u001b[0m\n",
      "\u001b[34m[380]#011train-error:0.026147#011validation-error:0.064565\u001b[0m\n",
      "\u001b[34m[381]#011train-error:0.025289#011validation-error:0.064565\u001b[0m\n",
      "\u001b[34m[382]#011train-error:0.025289#011validation-error:0.064565\u001b[0m\n",
      "\u001b[34m[383]#011train-error:0.025289#011validation-error:0.061562\u001b[0m\n",
      "\u001b[34m[384]#011train-error:0.025289#011validation-error:0.061562\u001b[0m\n",
      "\u001b[34m[385]#011train-error:0.025289#011validation-error:0.061562\u001b[0m\n",
      "\u001b[34m[386]#011train-error:0.025289#011validation-error:0.061562\u001b[0m\n",
      "\u001b[34m[387]#011train-error:0.025289#011validation-error:0.061562\u001b[0m\n",
      "\u001b[34m[388]#011train-error:0.025289#011validation-error:0.061562\u001b[0m\n",
      "\u001b[34m[389]#011train-error:0.025289#011validation-error:0.061562\u001b[0m\n",
      "\u001b[34m[390]#011train-error:0.025289#011validation-error:0.061562\u001b[0m\n",
      "\u001b[34m[391]#011train-error:0.025289#011validation-error:0.061562\u001b[0m\n",
      "\u001b[34m[392]#011train-error:0.024861#011validation-error:0.063063\u001b[0m\n",
      "\u001b[34m[393]#011train-error:0.025289#011validation-error:0.064565\u001b[0m\n",
      "\u001b[34m[394]#011train-error:0.025289#011validation-error:0.064565\u001b[0m\n",
      "\u001b[34m[395]#011train-error:0.025718#011validation-error:0.064565\u001b[0m\n",
      "\u001b[34m[396]#011train-error:0.026147#011validation-error:0.063063\u001b[0m\n",
      "\u001b[34m[397]#011train-error:0.026147#011validation-error:0.063063\u001b[0m\n",
      "\u001b[34m[398]#011train-error:0.026147#011validation-error:0.063063\u001b[0m\n",
      "\u001b[34m[399]#011train-error:0.026147#011validation-error:0.064565\u001b[0m\n",
      "\u001b[34m[400]#011train-error:0.026147#011validation-error:0.063063\u001b[0m\n",
      "\u001b[34m[401]#011train-error:0.025718#011validation-error:0.063063\u001b[0m\n",
      "\u001b[34m[402]#011train-error:0.026147#011validation-error:0.063063\u001b[0m\n",
      "\u001b[34m[403]#011train-error:0.026147#011validation-error:0.064565\u001b[0m\n",
      "\u001b[34m[404]#011train-error:0.026147#011validation-error:0.063063\u001b[0m\n",
      "\u001b[34m[405]#011train-error:0.026147#011validation-error:0.063063\u001b[0m\n",
      "\u001b[34m[406]#011train-error:0.026147#011validation-error:0.063063\u001b[0m\n",
      "\u001b[34m[407]#011train-error:0.026147#011validation-error:0.064565\u001b[0m\n",
      "\u001b[34m[408]#011train-error:0.026147#011validation-error:0.064565\u001b[0m\n",
      "\u001b[34m[409]#011train-error:0.026147#011validation-error:0.064565\u001b[0m\n",
      "\u001b[34m[410]#011train-error:0.026147#011validation-error:0.064565\u001b[0m\n",
      "\u001b[34m[411]#011train-error:0.026147#011validation-error:0.064565\u001b[0m\n",
      "\u001b[34m[412]#011train-error:0.026147#011validation-error:0.063063\u001b[0m\n",
      "\u001b[34m[413]#011train-error:0.027004#011validation-error:0.064565\u001b[0m\n",
      "\u001b[34m[414]#011train-error:0.027004#011validation-error:0.064565\u001b[0m\n",
      "\u001b[34m[415]#011train-error:0.026147#011validation-error:0.067568\u001b[0m\n",
      "\u001b[34m[416]#011train-error:0.026147#011validation-error:0.067568\u001b[0m\n",
      "\u001b[34m[417]#011train-error:0.026575#011validation-error:0.066066\u001b[0m\n",
      "\u001b[34m[418]#011train-error:0.026575#011validation-error:0.066066\u001b[0m\n",
      "\u001b[34m[419]#011train-error:0.026575#011validation-error:0.066066\u001b[0m\n",
      "\u001b[34m[420]#011train-error:0.026575#011validation-error:0.066066\u001b[0m\n",
      "\u001b[34m[421]#011train-error:0.026575#011validation-error:0.066066\u001b[0m\n",
      "\u001b[34m[422]#011train-error:0.026575#011validation-error:0.066066\u001b[0m\n",
      "\u001b[34m[423]#011train-error:0.026575#011validation-error:0.066066\u001b[0m\n",
      "\u001b[34m[424]#011train-error:0.026575#011validation-error:0.066066\u001b[0m\n",
      "\u001b[34m[425]#011train-error:0.025718#011validation-error:0.064565\u001b[0m\n",
      "\u001b[34m[426]#011train-error:0.025718#011validation-error:0.064565\u001b[0m\n",
      "\u001b[34m[427]#011train-error:0.026575#011validation-error:0.066066\u001b[0m\n",
      "\u001b[34m[428]#011train-error:0.025718#011validation-error:0.064565\u001b[0m\n",
      "\u001b[34m[429]#011train-error:0.026575#011validation-error:0.064565\u001b[0m\n",
      "\u001b[34m[430]#011train-error:0.026575#011validation-error:0.066066\u001b[0m\n",
      "\u001b[34m[431]#011train-error:0.026575#011validation-error:0.066066\u001b[0m\n",
      "\u001b[34m[432]#011train-error:0.026575#011validation-error:0.066066\u001b[0m\n",
      "\u001b[34m[433]#011train-error:0.026575#011validation-error:0.066066\u001b[0m\n",
      "\u001b[34m[434]#011train-error:0.026575#011validation-error:0.066066\u001b[0m\n",
      "\u001b[34m[435]#011train-error:0.026147#011validation-error:0.067568\u001b[0m\n",
      "\u001b[34m[436]#011train-error:0.026147#011validation-error:0.067568\u001b[0m\n",
      "\u001b[34m[437]#011train-error:0.026147#011validation-error:0.067568\u001b[0m\n",
      "\u001b[34m[438]#011train-error:0.026147#011validation-error:0.067568\u001b[0m\n",
      "\u001b[34m[439]#011train-error:0.026147#011validation-error:0.067568\u001b[0m\n",
      "\u001b[34m[440]#011train-error:0.025289#011validation-error:0.066066\u001b[0m\n",
      "\u001b[34m[441]#011train-error:0.025289#011validation-error:0.066066\u001b[0m\n",
      "\u001b[34m[442]#011train-error:0.026575#011validation-error:0.066066\u001b[0m\n",
      "\u001b[34m[443]#011train-error:0.025289#011validation-error:0.066066\u001b[0m\n",
      "\u001b[34m[444]#011train-error:0.025289#011validation-error:0.066066\u001b[0m\n",
      "\u001b[34m[445]#011train-error:0.025718#011validation-error:0.067568\u001b[0m\n",
      "\u001b[34m[446]#011train-error:0.026147#011validation-error:0.069069\u001b[0m\n",
      "\u001b[34m[447]#011train-error:0.026147#011validation-error:0.069069\u001b[0m\n",
      "\u001b[34m[448]#011train-error:0.024861#011validation-error:0.069069\u001b[0m\n",
      "\u001b[34m[449]#011train-error:0.025289#011validation-error:0.069069\u001b[0m\n",
      "\u001b[34m[450]#011train-error:0.026575#011validation-error:0.069069\u001b[0m\n",
      "\u001b[34m[451]#011train-error:0.026147#011validation-error:0.069069\u001b[0m\n",
      "\u001b[34m[452]#011train-error:0.026147#011validation-error:0.069069\u001b[0m\n",
      "\u001b[34m[453]#011train-error:0.025289#011validation-error:0.066066\u001b[0m\n",
      "\u001b[34m[454]#011train-error:0.025289#011validation-error:0.066066\u001b[0m\n",
      "\u001b[34m[455]#011train-error:0.026575#011validation-error:0.069069\u001b[0m\n",
      "\u001b[34m[456]#011train-error:0.027004#011validation-error:0.069069\u001b[0m\n",
      "\u001b[34m[457]#011train-error:0.027004#011validation-error:0.069069\u001b[0m\n",
      "\u001b[34m[458]#011train-error:0.026575#011validation-error:0.069069\u001b[0m\n",
      "\u001b[34m[459]#011train-error:0.027432#011validation-error:0.069069\u001b[0m\n",
      "\u001b[34m[460]#011train-error:0.027004#011validation-error:0.069069\u001b[0m\n",
      "\u001b[34m[461]#011train-error:0.027004#011validation-error:0.069069\u001b[0m\n",
      "\u001b[34m[462]#011train-error:0.027004#011validation-error:0.069069\u001b[0m\n",
      "\u001b[34m[463]#011train-error:0.025718#011validation-error:0.069069\u001b[0m\n",
      "\u001b[34m[464]#011train-error:0.025718#011validation-error:0.067568\u001b[0m\n",
      "\u001b[34m[465]#011train-error:0.025718#011validation-error:0.067568\u001b[0m\n",
      "\u001b[34m[466]#011train-error:0.025718#011validation-error:0.067568\u001b[0m\n",
      "\u001b[34m[467]#011train-error:0.026147#011validation-error:0.069069\u001b[0m\n",
      "\u001b[34m[468]#011train-error:0.026147#011validation-error:0.069069\u001b[0m\n",
      "\u001b[34m[469]#011train-error:0.026575#011validation-error:0.067568\u001b[0m\n",
      "\u001b[34m[470]#011train-error:0.026575#011validation-error:0.067568\u001b[0m\n",
      "\u001b[34m[471]#011train-error:0.026147#011validation-error:0.067568\u001b[0m\n",
      "\u001b[34m[472]#011train-error:0.026147#011validation-error:0.069069\u001b[0m\n",
      "\u001b[34m[473]#011train-error:0.026575#011validation-error:0.067568\u001b[0m\n",
      "\u001b[34m[474]#011train-error:0.026147#011validation-error:0.072072\u001b[0m\n",
      "\u001b[34m[475]#011train-error:0.026147#011validation-error:0.072072\u001b[0m\n",
      "\u001b[34m[476]#011train-error:0.025718#011validation-error:0.072072\u001b[0m\n",
      "\u001b[34m[477]#011train-error:0.025718#011validation-error:0.072072\u001b[0m\n",
      "\u001b[34m[478]#011train-error:0.025718#011validation-error:0.072072\u001b[0m\n",
      "\u001b[34m[479]#011train-error:0.025718#011validation-error:0.072072\u001b[0m\n",
      "\u001b[34m[480]#011train-error:0.025718#011validation-error:0.072072\u001b[0m\n",
      "\u001b[34m[481]#011train-error:0.025718#011validation-error:0.072072\u001b[0m\n",
      "\u001b[34m[482]#011train-error:0.026147#011validation-error:0.072072\u001b[0m\n",
      "\u001b[34m[483]#011train-error:0.026147#011validation-error:0.072072\u001b[0m\n",
      "\u001b[34m[484]#011train-error:0.026147#011validation-error:0.072072\u001b[0m\n",
      "\u001b[34m[485]#011train-error:0.025718#011validation-error:0.070571\u001b[0m\n",
      "\u001b[34m[486]#011train-error:0.025718#011validation-error:0.070571\u001b[0m\n",
      "\u001b[34m[487]#011train-error:0.025718#011validation-error:0.070571\u001b[0m\n",
      "\u001b[34m[488]#011train-error:0.026575#011validation-error:0.070571\u001b[0m\n",
      "\u001b[34m[489]#011train-error:0.026575#011validation-error:0.070571\u001b[0m\n",
      "\u001b[34m[490]#011train-error:0.027004#011validation-error:0.070571\u001b[0m\n",
      "\u001b[34m[491]#011train-error:0.025718#011validation-error:0.069069\u001b[0m\n",
      "\u001b[34m[492]#011train-error:0.025718#011validation-error:0.069069\u001b[0m\n",
      "\u001b[34m[493]#011train-error:0.025718#011validation-error:0.069069\u001b[0m\n",
      "\u001b[34m[494]#011train-error:0.025718#011validation-error:0.070571\u001b[0m\n",
      "\u001b[34m[495]#011train-error:0.024861#011validation-error:0.070571\u001b[0m\n",
      "\u001b[34m[496]#011train-error:0.024432#011validation-error:0.069069\u001b[0m\n",
      "\u001b[34m[497]#011train-error:0.024432#011validation-error:0.069069\u001b[0m\n",
      "\u001b[34m[498]#011train-error:0.024432#011validation-error:0.069069\u001b[0m\n",
      "\u001b[34m[499]#011train-error:0.024432#011validation-error:0.069069\u001b[0m\n",
      "\u001b[34m[500]#011train-error:0.024432#011validation-error:0.069069\u001b[0m\n",
      "\u001b[34m[501]#011train-error:0.024432#011validation-error:0.069069\u001b[0m\n",
      "\u001b[34m[502]#011train-error:0.024432#011validation-error:0.069069\u001b[0m\n",
      "\u001b[34m[503]#011train-error:0.025289#011validation-error:0.069069\u001b[0m\n",
      "\u001b[34m[504]#011train-error:0.024861#011validation-error:0.069069\u001b[0m\n",
      "\u001b[34m[505]#011train-error:0.025289#011validation-error:0.069069\u001b[0m\n",
      "\u001b[34m[506]#011train-error:0.024861#011validation-error:0.069069\u001b[0m\n",
      "\u001b[34m[507]#011train-error:0.024861#011validation-error:0.069069\u001b[0m\n",
      "\u001b[34m[508]#011train-error:0.024861#011validation-error:0.069069\u001b[0m\n",
      "\u001b[34m[509]#011train-error:0.024861#011validation-error:0.069069\u001b[0m\n",
      "\u001b[34m[510]#011train-error:0.025289#011validation-error:0.069069\u001b[0m\n",
      "\u001b[34m[511]#011train-error:0.025289#011validation-error:0.069069\u001b[0m\n",
      "\u001b[34m[512]#011train-error:0.024861#011validation-error:0.069069\u001b[0m\n",
      "\u001b[34m[513]#011train-error:0.024861#011validation-error:0.069069\u001b[0m\n",
      "\u001b[34m[514]#011train-error:0.024861#011validation-error:0.069069\u001b[0m\n",
      "\u001b[34m[515]#011train-error:0.024861#011validation-error:0.069069\u001b[0m\n",
      "\u001b[34m[516]#011train-error:0.024861#011validation-error:0.069069\u001b[0m\n",
      "\u001b[34m[517]#011train-error:0.024861#011validation-error:0.069069\u001b[0m\n",
      "\u001b[34m[518]#011train-error:0.024861#011validation-error:0.069069\u001b[0m\n",
      "\u001b[34m[519]#011train-error:0.024861#011validation-error:0.069069\u001b[0m\n",
      "\u001b[34m[520]#011train-error:0.024861#011validation-error:0.069069\u001b[0m\n",
      "\u001b[34m[521]#011train-error:0.024861#011validation-error:0.069069\u001b[0m\n",
      "\u001b[34m[522]#011train-error:0.024861#011validation-error:0.069069\u001b[0m\n",
      "\u001b[34m[523]#011train-error:0.024861#011validation-error:0.069069\u001b[0m\n",
      "\u001b[34m[524]#011train-error:0.024432#011validation-error:0.069069\u001b[0m\n",
      "\u001b[34m[525]#011train-error:0.024432#011validation-error:0.069069\u001b[0m\n",
      "\u001b[34m[526]#011train-error:0.024432#011validation-error:0.069069\u001b[0m\n",
      "\u001b[34m[527]#011train-error:0.025289#011validation-error:0.070571\u001b[0m\n",
      "\u001b[34m[528]#011train-error:0.024432#011validation-error:0.069069\u001b[0m\n",
      "\u001b[34m[529]#011train-error:0.024432#011validation-error:0.067568\u001b[0m\n",
      "\u001b[34m[530]#011train-error:0.023575#011validation-error:0.063063\u001b[0m\n",
      "\u001b[34m[531]#011train-error:0.024003#011validation-error:0.063063\u001b[0m\n",
      "\u001b[34m[532]#011train-error:0.024432#011validation-error:0.066066\u001b[0m\n",
      "\u001b[34m[533]#011train-error:0.024003#011validation-error:0.063063\u001b[0m\n",
      "\u001b[34m[534]#011train-error:0.024003#011validation-error:0.061562\u001b[0m\n",
      "\u001b[34m[535]#011train-error:0.024003#011validation-error:0.061562\u001b[0m\n",
      "\u001b[34m[536]#011train-error:0.023575#011validation-error:0.064565\u001b[0m\n",
      "\u001b[34m[537]#011train-error:0.024003#011validation-error:0.061562\u001b[0m\n",
      "\u001b[34m[538]#011train-error:0.024003#011validation-error:0.061562\u001b[0m\n",
      "\u001b[34m[539]#011train-error:0.023575#011validation-error:0.064565\u001b[0m\n",
      "\u001b[34m[540]#011train-error:0.024003#011validation-error:0.064565\u001b[0m\n",
      "\u001b[34m[541]#011train-error:0.024432#011validation-error:0.067568\u001b[0m\n",
      "\u001b[34m[542]#011train-error:0.024432#011validation-error:0.067568\u001b[0m\n",
      "\u001b[34m[543]#011train-error:0.024432#011validation-error:0.067568\u001b[0m\n",
      "\u001b[34m[544]#011train-error:0.025289#011validation-error:0.069069\u001b[0m\n",
      "\u001b[34m[545]#011train-error:0.025289#011validation-error:0.069069\u001b[0m\n",
      "\u001b[34m[546]#011train-error:0.025289#011validation-error:0.069069\u001b[0m\n",
      "\u001b[34m[547]#011train-error:0.025289#011validation-error:0.069069\u001b[0m\n",
      "\u001b[34m[548]#011train-error:0.025289#011validation-error:0.067568\u001b[0m\n",
      "\u001b[34m[549]#011train-error:0.025718#011validation-error:0.067568\u001b[0m\n",
      "\u001b[34m[550]#011train-error:0.025289#011validation-error:0.067568\u001b[0m\n",
      "\u001b[34m[551]#011train-error:0.025718#011validation-error:0.067568\u001b[0m\n",
      "\u001b[34m[552]#011train-error:0.025289#011validation-error:0.067568\u001b[0m\n",
      "\u001b[34m[553]#011train-error:0.025289#011validation-error:0.067568\u001b[0m\n",
      "\u001b[34m[554]#011train-error:0.025718#011validation-error:0.067568\u001b[0m\n",
      "\u001b[34m[555]#011train-error:0.025289#011validation-error:0.067568\u001b[0m\n",
      "\u001b[34m[556]#011train-error:0.025289#011validation-error:0.067568\u001b[0m\n",
      "\u001b[34m[557]#011train-error:0.024432#011validation-error:0.067568\u001b[0m\n",
      "\u001b[34m[558]#011train-error:0.024432#011validation-error:0.067568\u001b[0m\n",
      "\u001b[34m[559]#011train-error:0.025289#011validation-error:0.067568\u001b[0m\n",
      "\u001b[34m[560]#011train-error:0.025289#011validation-error:0.067568\u001b[0m\n",
      "\u001b[34m[561]#011train-error:0.025289#011validation-error:0.067568\u001b[0m\n",
      "\u001b[34m[562]#011train-error:0.025718#011validation-error:0.067568\u001b[0m\n",
      "\u001b[34m[563]#011train-error:0.025718#011validation-error:0.067568\u001b[0m\n",
      "\u001b[34m[564]#011train-error:0.025718#011validation-error:0.067568\u001b[0m\n",
      "\u001b[34m[565]#011train-error:0.025718#011validation-error:0.067568\u001b[0m\n",
      "\u001b[34m[566]#011train-error:0.025718#011validation-error:0.067568\u001b[0m\n",
      "\u001b[34m[567]#011train-error:0.025718#011validation-error:0.067568\u001b[0m\n",
      "\u001b[34m[568]#011train-error:0.025718#011validation-error:0.067568\u001b[0m\n",
      "\u001b[34m[569]#011train-error:0.024432#011validation-error:0.067568\u001b[0m\n",
      "\u001b[34m[570]#011train-error:0.023575#011validation-error:0.067568\u001b[0m\n",
      "\u001b[34m[571]#011train-error:0.023575#011validation-error:0.067568\u001b[0m\n",
      "\u001b[34m[572]#011train-error:0.023146#011validation-error:0.067568\u001b[0m\n",
      "\u001b[34m[573]#011train-error:0.023575#011validation-error:0.067568\u001b[0m\n",
      "\u001b[34m[574]#011train-error:0.023146#011validation-error:0.067568\u001b[0m\n",
      "\u001b[34m[575]#011train-error:0.023146#011validation-error:0.067568\u001b[0m\n",
      "\u001b[34m[576]#011train-error:0.024432#011validation-error:0.067568\u001b[0m\n",
      "\u001b[34m[577]#011train-error:0.024003#011validation-error:0.066066\u001b[0m\n",
      "\u001b[34m[578]#011train-error:0.024432#011validation-error:0.067568\u001b[0m\n",
      "\u001b[34m[579]#011train-error:0.024003#011validation-error:0.067568\u001b[0m\n",
      "\u001b[34m[580]#011train-error:0.023146#011validation-error:0.066066\u001b[0m\n",
      "\u001b[34m[581]#011train-error:0.023146#011validation-error:0.066066\u001b[0m\n",
      "\u001b[34m[582]#011train-error:0.024003#011validation-error:0.066066\u001b[0m\n",
      "\u001b[34m[583]#011train-error:0.024432#011validation-error:0.066066\u001b[0m\n",
      "\u001b[34m[584]#011train-error:0.024432#011validation-error:0.066066\u001b[0m\n",
      "\u001b[34m[585]#011train-error:0.024432#011validation-error:0.066066\u001b[0m\n",
      "\u001b[34m[586]#011train-error:0.024432#011validation-error:0.066066\u001b[0m\n",
      "\u001b[34m[587]#011train-error:0.024432#011validation-error:0.066066\u001b[0m\n",
      "\u001b[34m[588]#011train-error:0.024432#011validation-error:0.069069\u001b[0m\n",
      "\u001b[34m[589]#011train-error:0.024432#011validation-error:0.069069\u001b[0m\n",
      "\u001b[34m[590]#011train-error:0.024003#011validation-error:0.069069\u001b[0m\n",
      "\u001b[34m[591]#011train-error:0.024003#011validation-error:0.067568\u001b[0m\n",
      "\u001b[34m[592]#011train-error:0.024003#011validation-error:0.067568\u001b[0m\n",
      "\u001b[34m[593]#011train-error:0.024432#011validation-error:0.069069\u001b[0m\n",
      "\u001b[34m[594]#011train-error:0.024003#011validation-error:0.067568\u001b[0m\n",
      "\u001b[34m[595]#011train-error:0.024003#011validation-error:0.069069\u001b[0m\n",
      "\u001b[34m[596]#011train-error:0.024003#011validation-error:0.067568\u001b[0m\n",
      "\u001b[34m[597]#011train-error:0.024432#011validation-error:0.069069\u001b[0m\n",
      "\u001b[34m[598]#011train-error:0.024432#011validation-error:0.069069\u001b[0m\n",
      "\u001b[34m[599]#011train-error:0.024003#011validation-error:0.069069\u001b[0m\n",
      "Training seconds: 69\n",
      "Billable seconds: 69\n"
     ]
    }
   ],
   "source": [
    "from sagemaker.amazon.amazon_estimator import get_image_uri\n",
    "\n",
    "MODEL_PREFIX = 'models'\n",
    "\n",
    "xgboost_image_uri = get_image_uri(boto_session.region_name, 'xgboost', repo_version='0.90-2')\n",
    "print(f'Training models using Docker image: {xgboost_image_uri}')\n",
    "\n",
    "# Train Model A\n",
    "model_A = estimator.Estimator(image_name=xgboost_image_uri,\n",
    "                              role=role,\n",
    "                              train_instance_count=1,\n",
    "                              train_instance_type='ml.m4.xlarge',\n",
    "                              output_path=f\"s3://{BUCKET}/{MODEL_PREFIX}/model-A\",\n",
    "                              base_job_name=\"model-A\",\n",
    "                              sagemaker_session=sm_session)\n",
    "\n",
    "model_A.set_hyperparameters(max_depth=5,\n",
    "                            subsample=0.8,\n",
    "                            num_round=600,\n",
    "                            eta=0.2,\n",
    "                            gamma=4,\n",
    "                            min_child_weight=6,\n",
    "                            silent=0,\n",
    "                            objective='binary:logistic')\n",
    "\n",
    "# Train Model B\n",
    "model_B = estimator.Estimator(image_name=xgboost_image_uri,\n",
    "                              role=role,\n",
    "                              train_instance_count=1,\n",
    "                              train_instance_type='ml.m4.xlarge',\n",
    "                              output_path=f\"s3://{BUCKET}/{MODEL_PREFIX}/model-B\",\n",
    "                              base_job_name=\"model-B\",\n",
    "                              sagemaker_session=sm_session)\n",
    "\n",
    "model_B.set_hyperparameters(max_depth=3,\n",
    "                            subsample=0.5,\n",
    "                            num_round=600,\n",
    "                            eta=0.2,\n",
    "                            gamma=4,\n",
    "                            min_child_weight=6,\n",
    "                            silent=0,\n",
    "                            objective='binary:logistic')\n",
    "\n",
    "# Set wait=False so both A and B can train simultaneously\n",
    "model_A.fit({'train': s3_input_train, 'validation': s3_input_validation}, wait=False)\n",
    "model_B.fit({'train': s3_input_train, 'validation': s3_input_validation})"
   ]
  },
  {
   "cell_type": "markdown",
   "metadata": {},
   "source": [
    "## Deploy Models\n",
    "\n",
    "We call the `Model.deploy` method to create separate `Endpoint`s, `EndpointConfig`, and `Model` objects. We will create a single `Endpoint` so we can delete the `Endpoint` objects created here."
   ]
  },
  {
   "cell_type": "code",
   "execution_count": 8,
   "metadata": {},
   "outputs": [
    {
     "name": "stderr",
     "output_type": "stream",
     "text": [
      "WARNING:sagemaker:Parameter image will be renamed to image_uri in SageMaker Python SDK v2.\n",
      "WARNING:sagemaker:Using already existing model: model-A\n",
      "WARNING:sagemaker:Parameter image will be renamed to image_uri in SageMaker Python SDK v2.\n"
     ]
    },
    {
     "name": "stdout",
     "output_type": "stream",
     "text": [
      "---------------!"
     ]
    },
    {
     "data": {
      "text/plain": [
       "<sagemaker.predictor.RealTimePredictor at 0x7f4c76590150>"
      ]
     },
     "execution_count": 8,
     "metadata": {},
     "output_type": "execute_result"
    }
   ],
   "source": [
    "model_A.deploy(initial_instance_count=1,\n",
    "               instance_type=\"ml.m4.xlarge\",\n",
    "               endpoint_name='endpoint-model-A',\n",
    "               model_name='model-A',\n",
    "               wait=False)\n",
    "\n",
    "model_B.deploy(initial_instance_count=1,\n",
    "               instance_type=\"ml.m4.xlarge\",\n",
    "               endpoint_name='endpoint-model-B',\n",
    "               model_name='model-B')"
   ]
  },
  {
   "cell_type": "markdown",
   "metadata": {},
   "source": [
    "### Describe the Endpoint and EndpointConfig"
   ]
  },
  {
   "cell_type": "code",
   "execution_count": 11,
   "metadata": {},
   "outputs": [
    {
     "name": "stdout",
     "output_type": "stream",
     "text": [
      "{'CreationTime': datetime.datetime(2020, 7, 5, 13, 22, 35, 31000, tzinfo=tzlocal()),\n",
      " 'EndpointArn': 'arn:aws:sagemaker:us-east-2:209970524256:endpoint/endpoint-model-a',\n",
      " 'EndpointConfigName': 'endpoint-model-A',\n",
      " 'EndpointName': 'endpoint-model-A',\n",
      " 'EndpointStatus': 'InService',\n",
      " 'LastModifiedTime': datetime.datetime(2020, 7, 5, 13, 29, 45, 953000, tzinfo=tzlocal()),\n",
      " 'ProductionVariants': [{'CurrentInstanceCount': 1,\n",
      "                         'CurrentWeight': 1.0,\n",
      "                         'DeployedImages': [{'ResolutionTime': datetime.datetime(2020, 7, 5, 13, 22, 36, 726000, tzinfo=tzlocal()),\n",
      "                                             'ResolvedImage': '257758044811.dkr.ecr.us-east-2.amazonaws.com/sagemaker-xgboost@sha256:3c733d0214998ee69e8cf53864c666ae238e3b360bfcd453f9321fbf9d953536',\n",
      "                                             'SpecifiedImage': '257758044811.dkr.ecr.us-east-2.amazonaws.com/sagemaker-xgboost:0.90-2-cpu-py3'}],\n",
      "                         'DesiredInstanceCount': 1,\n",
      "                         'DesiredWeight': 1.0,\n",
      "                         'VariantName': 'AllTraffic'}],\n",
      " 'ResponseMetadata': {'HTTPHeaders': {'content-length': '702',\n",
      "                                      'content-type': 'application/x-amz-json-1.1',\n",
      "                                      'date': 'Sun, 05 Jul 2020 13:30:40 GMT',\n",
      "                                      'x-amzn-requestid': '0127e126-3532-454c-b6a8-010db6ace289'},\n",
      "                      'HTTPStatusCode': 200,\n",
      "                      'RequestId': '0127e126-3532-454c-b6a8-010db6ace289',\n",
      "                      'RetryAttempts': 0}}\n"
     ]
    }
   ],
   "source": [
    "model_A_endpoint = sagemaker_client.describe_endpoint(\n",
    "    EndpointName='endpoint-model-A')\n",
    "pprint.pprint(model_A_endpoint)"
   ]
  },
  {
   "cell_type": "code",
   "execution_count": 13,
   "metadata": {},
   "outputs": [
    {
     "name": "stdout",
     "output_type": "stream",
     "text": [
      "{'CreationTime': datetime.datetime(2020, 7, 5, 13, 22, 34, 888000, tzinfo=tzlocal()),\n",
      " 'EndpointConfigArn': 'arn:aws:sagemaker:us-east-2:209970524256:endpoint-config/endpoint-model-a',\n",
      " 'EndpointConfigName': 'endpoint-model-A',\n",
      " 'ProductionVariants': [{'InitialInstanceCount': 1,\n",
      "                         'InitialVariantWeight': 1.0,\n",
      "                         'InstanceType': 'ml.m4.xlarge',\n",
      "                         'ModelName': 'model-A',\n",
      "                         'VariantName': 'AllTraffic'}],\n",
      " 'ResponseMetadata': {'HTTPHeaders': {'content-length': '325',\n",
      "                                      'content-type': 'application/x-amz-json-1.1',\n",
      "                                      'date': 'Sun, 05 Jul 2020 13:31:15 GMT',\n",
      "                                      'x-amzn-requestid': 'd9e1f75c-b8a8-41cd-969e-da5974b99990'},\n",
      "                      'HTTPStatusCode': 200,\n",
      "                      'RequestId': 'd9e1f75c-b8a8-41cd-969e-da5974b99990',\n",
      "                      'RetryAttempts': 0}}\n"
     ]
    }
   ],
   "source": [
    "model_A_endpoint_config = sagemaker_client.describe_endpoint_config(\n",
    "    EndpointConfigName=model_A_endpoint['EndpointConfigName'])\n",
    "pprint.pprint(model_A_endpoint_config)"
   ]
  },
  {
   "cell_type": "code",
   "execution_count": 18,
   "metadata": {},
   "outputs": [
    {
     "data": {
      "text/plain": [
       "{'ModelName': 'model-A',\n",
       " 'PrimaryContainer': {'Image': '257758044811.dkr.ecr.us-east-2.amazonaws.com/sagemaker-xgboost:0.90-2-cpu-py3',\n",
       "  'Mode': 'SingleModel',\n",
       "  'ModelDataUrl': 's3://talk-20200720/models/model-A/model-A-2020-07-05-13-09-20-788/output/model.tar.gz',\n",
       "  'Environment': {}},\n",
       " 'ExecutionRoleArn': 'arn:aws:iam::209970524256:role/service-role/AmazonSageMaker-ExecutionRole-20200618T144956',\n",
       " 'CreationTime': datetime.datetime(2020, 7, 5, 13, 22, 14, 461000, tzinfo=tzlocal()),\n",
       " 'ModelArn': 'arn:aws:sagemaker:us-east-2:209970524256:model/model-a',\n",
       " 'EnableNetworkIsolation': False,\n",
       " 'ResponseMetadata': {'RequestId': 'db3d30fb-4112-4336-9b8b-0758653b0af3',\n",
       "  'HTTPStatusCode': 200,\n",
       "  'HTTPHeaders': {'x-amzn-requestid': 'db3d30fb-4112-4336-9b8b-0758653b0af3',\n",
       "   'content-type': 'application/x-amz-json-1.1',\n",
       "   'content-length': '515',\n",
       "   'date': 'Sun, 05 Jul 2020 13:34:30 GMT'},\n",
       "  'RetryAttempts': 0}}"
      ]
     },
     "execution_count": 18,
     "metadata": {},
     "output_type": "execute_result"
    }
   ],
   "source": [
    "sagemaker_client.describe_model(ModelName='model-A')"
   ]
  },
  {
   "cell_type": "code",
   "execution_count": 15,
   "metadata": {},
   "outputs": [
    {
     "name": "stdout",
     "output_type": "stream",
     "text": [
      "{'CreationTime': datetime.datetime(2020, 7, 5, 13, 22, 38, 215000, tzinfo=tzlocal()),\n",
      " 'EndpointArn': 'arn:aws:sagemaker:us-east-2:209970524256:endpoint/endpoint-model-b',\n",
      " 'EndpointConfigName': 'endpoint-model-B',\n",
      " 'EndpointName': 'endpoint-model-B',\n",
      " 'EndpointStatus': 'InService',\n",
      " 'LastModifiedTime': datetime.datetime(2020, 7, 5, 13, 29, 51, 278000, tzinfo=tzlocal()),\n",
      " 'ProductionVariants': [{'CurrentInstanceCount': 1,\n",
      "                         'CurrentWeight': 1.0,\n",
      "                         'DeployedImages': [{'ResolutionTime': datetime.datetime(2020, 7, 5, 13, 22, 40, 59000, tzinfo=tzlocal()),\n",
      "                                             'ResolvedImage': '257758044811.dkr.ecr.us-east-2.amazonaws.com/sagemaker-xgboost@sha256:3c733d0214998ee69e8cf53864c666ae238e3b360bfcd453f9321fbf9d953536',\n",
      "                                             'SpecifiedImage': '257758044811.dkr.ecr.us-east-2.amazonaws.com/sagemaker-xgboost:0.90-2-cpu-py3'}],\n",
      "                         'DesiredInstanceCount': 1,\n",
      "                         'DesiredWeight': 1.0,\n",
      "                         'VariantName': 'AllTraffic'}],\n",
      " 'ResponseMetadata': {'HTTPHeaders': {'content-length': '702',\n",
      "                                      'content-type': 'application/x-amz-json-1.1',\n",
      "                                      'date': 'Sun, 05 Jul 2020 13:33:32 GMT',\n",
      "                                      'x-amzn-requestid': 'bc59b61f-cbd0-40e1-a6b4-02508f53c3b2'},\n",
      "                      'HTTPStatusCode': 200,\n",
      "                      'RequestId': 'bc59b61f-cbd0-40e1-a6b4-02508f53c3b2',\n",
      "                      'RetryAttempts': 0}}\n"
     ]
    }
   ],
   "source": [
    "model_B_endpoint = sagemaker_client.describe_endpoint(EndpointName='endpoint-model-B')\n",
    "pprint.pprint(model_B_endpoint)"
   ]
  },
  {
   "cell_type": "code",
   "execution_count": 17,
   "metadata": {},
   "outputs": [
    {
     "name": "stdout",
     "output_type": "stream",
     "text": [
      "{'CreationTime': datetime.datetime(2020, 7, 5, 13, 22, 38, 62000, tzinfo=tzlocal()),\n",
      " 'EndpointConfigArn': 'arn:aws:sagemaker:us-east-2:209970524256:endpoint-config/endpoint-model-b',\n",
      " 'EndpointConfigName': 'endpoint-model-B',\n",
      " 'ProductionVariants': [{'InitialInstanceCount': 1,\n",
      "                         'InitialVariantWeight': 1.0,\n",
      "                         'InstanceType': 'ml.m4.xlarge',\n",
      "                         'ModelName': 'model-B',\n",
      "                         'VariantName': 'AllTraffic'}],\n",
      " 'ResponseMetadata': {'HTTPHeaders': {'content-length': '325',\n",
      "                                      'content-type': 'application/x-amz-json-1.1',\n",
      "                                      'date': 'Sun, 05 Jul 2020 13:33:50 GMT',\n",
      "                                      'x-amzn-requestid': 'a101f4c5-a8f7-4c77-82cc-932da17ad128'},\n",
      "                      'HTTPStatusCode': 200,\n",
      "                      'RequestId': 'a101f4c5-a8f7-4c77-82cc-932da17ad128',\n",
      "                      'RetryAttempts': 0}}\n"
     ]
    }
   ],
   "source": [
    "pprint.pprint(sagemaker_client.describe_endpoint_config(\n",
    "    EndpointConfigName=model_B_endpoint['EndpointConfigName']))"
   ]
  },
  {
   "cell_type": "code",
   "execution_count": 19,
   "metadata": {},
   "outputs": [
    {
     "data": {
      "text/plain": [
       "{'ModelName': 'model-B',\n",
       " 'PrimaryContainer': {'Image': '257758044811.dkr.ecr.us-east-2.amazonaws.com/sagemaker-xgboost:0.90-2-cpu-py3',\n",
       "  'Mode': 'SingleModel',\n",
       "  'ModelDataUrl': 's3://talk-20200720/models/model-B/model-B-2020-07-05-13-09-20-994/output/model.tar.gz',\n",
       "  'Environment': {}},\n",
       " 'ExecutionRoleArn': 'arn:aws:iam::209970524256:role/service-role/AmazonSageMaker-ExecutionRole-20200618T144956',\n",
       " 'CreationTime': datetime.datetime(2020, 7, 5, 13, 22, 35, 444000, tzinfo=tzlocal()),\n",
       " 'ModelArn': 'arn:aws:sagemaker:us-east-2:209970524256:model/model-b',\n",
       " 'EnableNetworkIsolation': False,\n",
       " 'ResponseMetadata': {'RequestId': 'e3d8d948-c417-4a63-9a42-9e708aca92e4',\n",
       "  'HTTPStatusCode': 200,\n",
       "  'HTTPHeaders': {'x-amzn-requestid': 'e3d8d948-c417-4a63-9a42-9e708aca92e4',\n",
       "   'content-type': 'application/x-amz-json-1.1',\n",
       "   'content-length': '515',\n",
       "   'date': 'Sun, 05 Jul 2020 13:34:38 GMT'},\n",
       "  'RetryAttempts': 0}}"
      ]
     },
     "execution_count": 19,
     "metadata": {},
     "output_type": "execute_result"
    }
   ],
   "source": [
    "sagemaker_client.describe_model(ModelName='model-B')"
   ]
  },
  {
   "cell_type": "markdown",
   "metadata": {},
   "source": [
    "# Blue/Green Deployment\n",
    "\n",
    "![blue green deployment](./figures/blue-green.png)\n",
    "\n",
    "[Figure Source](https://d1.awsstatic.com/whitepapers/architecture/wellarchitected-Machine-Learning-Lens.pdf)"
   ]
  },
  {
   "cell_type": "markdown",
   "metadata": {},
   "source": [
    "### Step 1: Create an Endpoint with a single Production Variant"
   ]
  },
  {
   "cell_type": "code",
   "execution_count": 20,
   "metadata": {},
   "outputs": [
    {
     "data": {
      "text/plain": [
       "{'EndpointArn': 'arn:aws:sagemaker:us-east-2:209970524256:endpoint/churn-model',\n",
       " 'ResponseMetadata': {'RequestId': '07f540d3-9f3c-43ce-8fbd-445abb5ccbb6',\n",
       "  'HTTPStatusCode': 200,\n",
       "  'HTTPHeaders': {'x-amzn-requestid': '07f540d3-9f3c-43ce-8fbd-445abb5ccbb6',\n",
       "   'content-type': 'application/x-amz-json-1.1',\n",
       "   'content-length': '79',\n",
       "   'date': 'Sun, 05 Jul 2020 13:35:01 GMT'},\n",
       "  'RetryAttempts': 0}}"
      ]
     },
     "execution_count": 20,
     "metadata": {},
     "output_type": "execute_result"
    }
   ],
   "source": [
    "churn_endpoint_name='churn-model'\n",
    "\n",
    "sagemaker_client.create_endpoint(\n",
    "    EndpointName=churn_endpoint_name,\n",
    "    EndpointConfigName = model_A_endpoint['EndpointConfigName']\n",
    ")"
   ]
  },
  {
   "cell_type": "code",
   "execution_count": 24,
   "metadata": {},
   "outputs": [
    {
     "data": {
      "text/plain": [
       "{'EndpointName': 'churn-model',\n",
       " 'EndpointArn': 'arn:aws:sagemaker:us-east-2:209970524256:endpoint/churn-model',\n",
       " 'EndpointConfigName': 'endpoint-model-A',\n",
       " 'ProductionVariants': [{'VariantName': 'AllTraffic',\n",
       "   'DeployedImages': [{'SpecifiedImage': '257758044811.dkr.ecr.us-east-2.amazonaws.com/sagemaker-xgboost:0.90-2-cpu-py3',\n",
       "     'ResolvedImage': '257758044811.dkr.ecr.us-east-2.amazonaws.com/sagemaker-xgboost@sha256:3c733d0214998ee69e8cf53864c666ae238e3b360bfcd453f9321fbf9d953536',\n",
       "     'ResolutionTime': datetime.datetime(2020, 7, 5, 13, 35, 3, 247000, tzinfo=tzlocal())}],\n",
       "   'CurrentWeight': 1.0,\n",
       "   'DesiredWeight': 1.0,\n",
       "   'CurrentInstanceCount': 1,\n",
       "   'DesiredInstanceCount': 1}],\n",
       " 'EndpointStatus': 'InService',\n",
       " 'CreationTime': datetime.datetime(2020, 7, 5, 13, 35, 1, 424000, tzinfo=tzlocal()),\n",
       " 'LastModifiedTime': datetime.datetime(2020, 7, 5, 13, 42, 13, 999000, tzinfo=tzlocal()),\n",
       " 'ResponseMetadata': {'RequestId': 'b3a92b07-a60c-480c-b68a-669fa98cb18a',\n",
       "  'HTTPStatusCode': 200,\n",
       "  'HTTPHeaders': {'x-amzn-requestid': 'b3a92b07-a60c-480c-b68a-669fa98cb18a',\n",
       "   'content-type': 'application/x-amz-json-1.1',\n",
       "   'content-length': '692',\n",
       "   'date': 'Sun, 05 Jul 2020 13:42:21 GMT'},\n",
       "  'RetryAttempts': 0}}"
      ]
     },
     "execution_count": 24,
     "metadata": {},
     "output_type": "execute_result"
    }
   ],
   "source": [
    "sagemaker_client.describe_endpoint(EndpointName=churn_endpoint_name)"
   ]
  },
  {
   "cell_type": "markdown",
   "metadata": {},
   "source": [
    "### Step 2. Create a new endpoint configuration, using the same production variants for the existing live model and for the new model."
   ]
  },
  {
   "cell_type": "code",
   "execution_count": 22,
   "metadata": {},
   "outputs": [
    {
     "data": {
      "text/plain": [
       "{'EndpointConfigArn': 'arn:aws:sagemaker:us-east-2:209970524256:endpoint-config/blue-green',\n",
       " 'ResponseMetadata': {'RequestId': '93de25de-661a-4fc2-a5f4-9d557db4b245',\n",
       "  'HTTPStatusCode': 200,\n",
       "  'HTTPHeaders': {'x-amzn-requestid': '93de25de-661a-4fc2-a5f4-9d557db4b245',\n",
       "   'content-type': 'application/x-amz-json-1.1',\n",
       "   'content-length': '91',\n",
       "   'date': 'Sun, 05 Jul 2020 13:39:01 GMT'},\n",
       "  'RetryAttempts': 0}}"
      ]
     },
     "execution_count": 22,
     "metadata": {},
     "output_type": "execute_result"
    }
   ],
   "source": [
    "variant_A = {'ModelName': 'model-A',\n",
    "            'VariantName': 'blue',\n",
    "            'InitialInstanceCount': 1,\n",
    "            'InstanceType': 'ml.t2.medium',\n",
    "            'InitialVariantWeight': 1.0}\n",
    "\n",
    "variant_B = {'ModelName': 'model-B',\n",
    "            'VariantName': 'green',\n",
    "            'InitialInstanceCount': 1,\n",
    "            'InstanceType': 'ml.t2.medium',\n",
    "            'InitialVariantWeight': 0.0}\n",
    "\n",
    "blue_green_endpoint_config = 'blue-green'\n",
    "sagemaker_client.create_endpoint_config(EndpointConfigName = blue_green_endpoint_config,\n",
    "                                        ProductionVariants = [variant_A, variant_B])"
   ]
  },
  {
   "cell_type": "code",
   "execution_count": 25,
   "metadata": {},
   "outputs": [
    {
     "data": {
      "text/plain": [
       "{'EndpointConfigName': 'blue-green',\n",
       " 'EndpointConfigArn': 'arn:aws:sagemaker:us-east-2:209970524256:endpoint-config/blue-green',\n",
       " 'ProductionVariants': [{'VariantName': 'blue',\n",
       "   'ModelName': 'model-A',\n",
       "   'InitialInstanceCount': 1,\n",
       "   'InstanceType': 'ml.t2.medium',\n",
       "   'InitialVariantWeight': 1.0},\n",
       "  {'VariantName': 'green',\n",
       "   'ModelName': 'model-B',\n",
       "   'InitialInstanceCount': 1,\n",
       "   'InstanceType': 'ml.t2.medium',\n",
       "   'InitialVariantWeight': 0.0}],\n",
       " 'CreationTime': datetime.datetime(2020, 7, 5, 13, 39, 2, 576000, tzinfo=tzlocal()),\n",
       " 'ResponseMetadata': {'RequestId': '702b35e2-7852-46d7-9101-8b2e5a1988a2',\n",
       "  'HTTPStatusCode': 200,\n",
       "  'HTTPHeaders': {'x-amzn-requestid': '702b35e2-7852-46d7-9101-8b2e5a1988a2',\n",
       "   'content-type': 'application/x-amz-json-1.1',\n",
       "   'content-length': '435',\n",
       "   'date': 'Sun, 05 Jul 2020 13:42:31 GMT'},\n",
       "  'RetryAttempts': 0}}"
      ]
     },
     "execution_count": 25,
     "metadata": {},
     "output_type": "execute_result"
    }
   ],
   "source": [
    "sagemaker_client.describe_endpoint_config(EndpointConfigName=blue_green_endpoint_config)"
   ]
  },
  {
   "cell_type": "markdown",
   "metadata": {},
   "source": [
    "### Step 3. Update the existing live endpoint with the new endpoint configuration. Amazon SageMaker creates the required infrastructure for the new production variant and updates the weights without any downtime."
   ]
  },
  {
   "cell_type": "code",
   "execution_count": 26,
   "metadata": {},
   "outputs": [
    {
     "data": {
      "text/plain": [
       "{'EndpointArn': 'arn:aws:sagemaker:us-east-2:209970524256:endpoint/churn-model',\n",
       " 'ResponseMetadata': {'RequestId': '38f7f87c-9967-47ee-a180-3607668a08f8',\n",
       "  'HTTPStatusCode': 200,\n",
       "  'HTTPHeaders': {'x-amzn-requestid': '38f7f87c-9967-47ee-a180-3607668a08f8',\n",
       "   'content-type': 'application/x-amz-json-1.1',\n",
       "   'content-length': '79',\n",
       "   'date': 'Sun, 05 Jul 2020 13:42:44 GMT'},\n",
       "  'RetryAttempts': 0}}"
      ]
     },
     "execution_count": 26,
     "metadata": {},
     "output_type": "execute_result"
    }
   ],
   "source": [
    "sagemaker_client.update_endpoint(EndpointName=churn_endpoint_name,\n",
    "                                 EndpointConfigName=blue_green_endpoint_config)"
   ]
  },
  {
   "cell_type": "code",
   "execution_count": 33,
   "metadata": {},
   "outputs": [
    {
     "data": {
      "text/plain": [
       "{'EndpointName': 'churn-model',\n",
       " 'EndpointArn': 'arn:aws:sagemaker:us-east-2:209970524256:endpoint/churn-model',\n",
       " 'EndpointConfigName': 'blue-green',\n",
       " 'ProductionVariants': [{'VariantName': 'blue',\n",
       "   'DeployedImages': [{'SpecifiedImage': '257758044811.dkr.ecr.us-east-2.amazonaws.com/sagemaker-xgboost:0.90-2-cpu-py3',\n",
       "     'ResolvedImage': '257758044811.dkr.ecr.us-east-2.amazonaws.com/sagemaker-xgboost@sha256:3c733d0214998ee69e8cf53864c666ae238e3b360bfcd453f9321fbf9d953536',\n",
       "     'ResolutionTime': datetime.datetime(2020, 7, 5, 13, 42, 46, 912000, tzinfo=tzlocal())}],\n",
       "   'CurrentWeight': 1.0,\n",
       "   'DesiredWeight': 1.0,\n",
       "   'CurrentInstanceCount': 1,\n",
       "   'DesiredInstanceCount': 1},\n",
       "  {'VariantName': 'green',\n",
       "   'DeployedImages': [{'SpecifiedImage': '257758044811.dkr.ecr.us-east-2.amazonaws.com/sagemaker-xgboost:0.90-2-cpu-py3',\n",
       "     'ResolvedImage': '257758044811.dkr.ecr.us-east-2.amazonaws.com/sagemaker-xgboost@sha256:3c733d0214998ee69e8cf53864c666ae238e3b360bfcd453f9321fbf9d953536',\n",
       "     'ResolutionTime': datetime.datetime(2020, 7, 5, 13, 42, 46, 912000, tzinfo=tzlocal())}],\n",
       "   'CurrentWeight': 0.0,\n",
       "   'DesiredWeight': 0.0,\n",
       "   'CurrentInstanceCount': 1,\n",
       "   'DesiredInstanceCount': 1}],\n",
       " 'EndpointStatus': 'InService',\n",
       " 'CreationTime': datetime.datetime(2020, 7, 5, 13, 35, 1, 424000, tzinfo=tzlocal()),\n",
       " 'LastModifiedTime': datetime.datetime(2020, 7, 5, 13, 49, 53, 495000, tzinfo=tzlocal()),\n",
       " 'ResponseMetadata': {'RequestId': '9da92ed5-fbc6-40e9-98c0-add89e64dcc7',\n",
       "  'HTTPStatusCode': 200,\n",
       "  'HTTPHeaders': {'x-amzn-requestid': '9da92ed5-fbc6-40e9-98c0-add89e64dcc7',\n",
       "   'content-type': 'application/x-amz-json-1.1',\n",
       "   'content-length': '1099',\n",
       "   'date': 'Sun, 05 Jul 2020 13:50:17 GMT'},\n",
       "  'RetryAttempts': 0}}"
      ]
     },
     "execution_count": 33,
     "metadata": {},
     "output_type": "execute_result"
    }
   ],
   "source": [
    "sagemaker_client.describe_endpoint(EndpointName=churn_endpoint_name)"
   ]
  },
  {
   "cell_type": "markdown",
   "metadata": {},
   "source": [
    "### Step 4. Switch traffic to the new model through an API call."
   ]
  },
  {
   "cell_type": "code",
   "execution_count": 34,
   "metadata": {},
   "outputs": [
    {
     "data": {
      "text/plain": [
       "{'EndpointArn': 'arn:aws:sagemaker:us-east-2:209970524256:endpoint/churn-model',\n",
       " 'ResponseMetadata': {'RequestId': '2fe12bcb-52e7-473b-968d-a3b3fe12f52b',\n",
       "  'HTTPStatusCode': 200,\n",
       "  'HTTPHeaders': {'x-amzn-requestid': '2fe12bcb-52e7-473b-968d-a3b3fe12f52b',\n",
       "   'content-type': 'application/x-amz-json-1.1',\n",
       "   'content-length': '79',\n",
       "   'date': 'Sun, 05 Jul 2020 13:50:36 GMT'},\n",
       "  'RetryAttempts': 0}}"
      ]
     },
     "execution_count": 34,
     "metadata": {},
     "output_type": "execute_result"
    }
   ],
   "source": [
    "sagemaker_client.update_endpoint_weights_and_capacities(\n",
    "    EndpointName=churn_endpoint_name,\n",
    "    DesiredWeightsAndCapacities=[\n",
    "        {\n",
    "            'VariantName': 'blue',\n",
    "            'DesiredWeight': 0.0\n",
    "        },\n",
    "        {\n",
    "            'VariantName': 'green',\n",
    "            'DesiredWeight': 1.0\n",
    "        }\n",
    "    ]\n",
    ")"
   ]
  },
  {
   "cell_type": "code",
   "execution_count": 36,
   "metadata": {},
   "outputs": [
    {
     "data": {
      "text/plain": [
       "{'EndpointName': 'churn-model',\n",
       " 'EndpointArn': 'arn:aws:sagemaker:us-east-2:209970524256:endpoint/churn-model',\n",
       " 'EndpointConfigName': 'blue-green',\n",
       " 'ProductionVariants': [{'VariantName': 'blue',\n",
       "   'DeployedImages': [{'SpecifiedImage': '257758044811.dkr.ecr.us-east-2.amazonaws.com/sagemaker-xgboost:0.90-2-cpu-py3',\n",
       "     'ResolvedImage': '257758044811.dkr.ecr.us-east-2.amazonaws.com/sagemaker-xgboost@sha256:3c733d0214998ee69e8cf53864c666ae238e3b360bfcd453f9321fbf9d953536',\n",
       "     'ResolutionTime': datetime.datetime(2020, 7, 5, 13, 42, 46, 912000, tzinfo=tzlocal())}],\n",
       "   'CurrentWeight': 0.0,\n",
       "   'DesiredWeight': 0.0,\n",
       "   'CurrentInstanceCount': 1,\n",
       "   'DesiredInstanceCount': 1},\n",
       "  {'VariantName': 'green',\n",
       "   'DeployedImages': [{'SpecifiedImage': '257758044811.dkr.ecr.us-east-2.amazonaws.com/sagemaker-xgboost:0.90-2-cpu-py3',\n",
       "     'ResolvedImage': '257758044811.dkr.ecr.us-east-2.amazonaws.com/sagemaker-xgboost@sha256:3c733d0214998ee69e8cf53864c666ae238e3b360bfcd453f9321fbf9d953536',\n",
       "     'ResolutionTime': datetime.datetime(2020, 7, 5, 13, 42, 46, 912000, tzinfo=tzlocal())}],\n",
       "   'CurrentWeight': 1.0,\n",
       "   'DesiredWeight': 1.0,\n",
       "   'CurrentInstanceCount': 1,\n",
       "   'DesiredInstanceCount': 1}],\n",
       " 'EndpointStatus': 'InService',\n",
       " 'CreationTime': datetime.datetime(2020, 7, 5, 13, 35, 1, 424000, tzinfo=tzlocal()),\n",
       " 'LastModifiedTime': datetime.datetime(2020, 7, 5, 13, 51, 38, 505000, tzinfo=tzlocal()),\n",
       " 'ResponseMetadata': {'RequestId': '8bcb2eb9-1c81-47a2-8fd8-b870d028f5a1',\n",
       "  'HTTPStatusCode': 200,\n",
       "  'HTTPHeaders': {'x-amzn-requestid': '8bcb2eb9-1c81-47a2-8fd8-b870d028f5a1',\n",
       "   'content-type': 'application/x-amz-json-1.1',\n",
       "   'content-length': '1099',\n",
       "   'date': 'Sun, 05 Jul 2020 13:51:55 GMT'},\n",
       "  'RetryAttempts': 0}}"
      ]
     },
     "execution_count": 36,
     "metadata": {},
     "output_type": "execute_result"
    }
   ],
   "source": [
    "sagemaker_client.describe_endpoint(EndpointName=churn_endpoint_name)"
   ]
  },
  {
   "cell_type": "markdown",
   "metadata": {},
   "source": [
    "### Step 5. Create a new endpoint configuration with only the new production variant and apply it to the endpoint. "
   ]
  },
  {
   "cell_type": "code",
   "execution_count": 37,
   "metadata": {},
   "outputs": [
    {
     "data": {
      "text/plain": [
       "{'EndpointArn': 'arn:aws:sagemaker:us-east-2:209970524256:endpoint/churn-model',\n",
       " 'ResponseMetadata': {'RequestId': 'e55f7438-3a5e-4cc4-b048-8f59876bde96',\n",
       "  'HTTPStatusCode': 200,\n",
       "  'HTTPHeaders': {'x-amzn-requestid': 'e55f7438-3a5e-4cc4-b048-8f59876bde96',\n",
       "   'content-type': 'application/x-amz-json-1.1',\n",
       "   'content-length': '79',\n",
       "   'date': 'Sun, 05 Jul 2020 13:52:10 GMT'},\n",
       "  'RetryAttempts': 0}}"
      ]
     },
     "execution_count": 37,
     "metadata": {},
     "output_type": "execute_result"
    }
   ],
   "source": [
    "sagemaker_client.update_endpoint(EndpointName=churn_endpoint_name,\n",
    "                                 EndpointConfigName=model_B_endpoint['EndpointConfigName'])"
   ]
  },
  {
   "cell_type": "code",
   "execution_count": 55,
   "metadata": {},
   "outputs": [
    {
     "data": {
      "text/plain": [
       "{'EndpointName': 'churn-model',\n",
       " 'EndpointArn': 'arn:aws:sagemaker:us-east-2:209970524256:endpoint/churn-model',\n",
       " 'EndpointConfigName': 'endpoint-model-B',\n",
       " 'ProductionVariants': [{'VariantName': 'AllTraffic',\n",
       "   'DeployedImages': [{'SpecifiedImage': '257758044811.dkr.ecr.us-east-2.amazonaws.com/sagemaker-xgboost:0.90-2-cpu-py3',\n",
       "     'ResolvedImage': '257758044811.dkr.ecr.us-east-2.amazonaws.com/sagemaker-xgboost@sha256:3c733d0214998ee69e8cf53864c666ae238e3b360bfcd453f9321fbf9d953536',\n",
       "     'ResolutionTime': datetime.datetime(2020, 7, 5, 13, 52, 13, 156000, tzinfo=tzlocal())}],\n",
       "   'CurrentWeight': 1.0,\n",
       "   'DesiredWeight': 1.0,\n",
       "   'CurrentInstanceCount': 1,\n",
       "   'DesiredInstanceCount': 1}],\n",
       " 'EndpointStatus': 'InService',\n",
       " 'CreationTime': datetime.datetime(2020, 7, 5, 13, 35, 1, 424000, tzinfo=tzlocal()),\n",
       " 'LastModifiedTime': datetime.datetime(2020, 7, 5, 13, 59, 19, 838000, tzinfo=tzlocal()),\n",
       " 'ResponseMetadata': {'RequestId': 'b372ed4c-44e8-4f53-aa39-12bfdd32248f',\n",
       "  'HTTPStatusCode': 200,\n",
       "  'HTTPHeaders': {'x-amzn-requestid': 'b372ed4c-44e8-4f53-aa39-12bfdd32248f',\n",
       "   'content-type': 'application/x-amz-json-1.1',\n",
       "   'content-length': '692',\n",
       "   'date': 'Sun, 05 Jul 2020 13:59:35 GMT'},\n",
       "  'RetryAttempts': 0}}"
      ]
     },
     "execution_count": 55,
     "metadata": {},
     "output_type": "execute_result"
    }
   ],
   "source": [
    "sagemaker_client.describe_endpoint(EndpointName=churn_endpoint_name)"
   ]
  },
  {
   "cell_type": "markdown",
   "metadata": {},
   "source": [
    "# Canary Deployment\n",
    "\n",
    "TODO Add picture"
   ]
  },
  {
   "cell_type": "markdown",
   "metadata": {},
   "source": [
    "### Step 0. Reset Endpoint to use Model-A"
   ]
  },
  {
   "cell_type": "code",
   "execution_count": 56,
   "metadata": {},
   "outputs": [
    {
     "data": {
      "text/plain": [
       "{'EndpointArn': 'arn:aws:sagemaker:us-east-2:209970524256:endpoint/churn-model',\n",
       " 'ResponseMetadata': {'RequestId': '57824213-990b-4f17-b060-83500686b20d',\n",
       "  'HTTPStatusCode': 200,\n",
       "  'HTTPHeaders': {'x-amzn-requestid': '57824213-990b-4f17-b060-83500686b20d',\n",
       "   'content-type': 'application/x-amz-json-1.1',\n",
       "   'content-length': '79',\n",
       "   'date': 'Sun, 05 Jul 2020 17:20:29 GMT'},\n",
       "  'RetryAttempts': 0}}"
      ]
     },
     "execution_count": 56,
     "metadata": {},
     "output_type": "execute_result"
    }
   ],
   "source": [
    "sagemaker_client.update_endpoint(EndpointName=churn_endpoint_name,\n",
    "                                 EndpointConfigName=model_A_endpoint['EndpointConfigName'])"
   ]
  },
  {
   "cell_type": "code",
   "execution_count": 58,
   "metadata": {},
   "outputs": [
    {
     "data": {
      "text/plain": [
       "{'EndpointName': 'churn-model',\n",
       " 'EndpointArn': 'arn:aws:sagemaker:us-east-2:209970524256:endpoint/churn-model',\n",
       " 'EndpointConfigName': 'endpoint-model-A',\n",
       " 'ProductionVariants': [{'VariantName': 'AllTraffic',\n",
       "   'DeployedImages': [{'SpecifiedImage': '257758044811.dkr.ecr.us-east-2.amazonaws.com/sagemaker-xgboost:0.90-2-cpu-py3',\n",
       "     'ResolvedImage': '257758044811.dkr.ecr.us-east-2.amazonaws.com/sagemaker-xgboost@sha256:3c733d0214998ee69e8cf53864c666ae238e3b360bfcd453f9321fbf9d953536',\n",
       "     'ResolutionTime': datetime.datetime(2020, 7, 5, 17, 20, 32, 212000, tzinfo=tzlocal())}],\n",
       "   'CurrentWeight': 1.0,\n",
       "   'DesiredWeight': 1.0,\n",
       "   'CurrentInstanceCount': 1,\n",
       "   'DesiredInstanceCount': 1}],\n",
       " 'EndpointStatus': 'InService',\n",
       " 'CreationTime': datetime.datetime(2020, 7, 5, 13, 35, 1, 424000, tzinfo=tzlocal()),\n",
       " 'LastModifiedTime': datetime.datetime(2020, 7, 5, 17, 27, 38, 510000, tzinfo=tzlocal()),\n",
       " 'ResponseMetadata': {'RequestId': 'fb5d8adc-f55a-4698-a9b3-75662ef5a1f2',\n",
       "  'HTTPStatusCode': 200,\n",
       "  'HTTPHeaders': {'x-amzn-requestid': 'fb5d8adc-f55a-4698-a9b3-75662ef5a1f2',\n",
       "   'content-type': 'application/x-amz-json-1.1',\n",
       "   'content-length': '691',\n",
       "   'date': 'Sun, 05 Jul 2020 17:28:35 GMT'},\n",
       "  'RetryAttempts': 0}}"
      ]
     },
     "execution_count": 58,
     "metadata": {},
     "output_type": "execute_result"
    }
   ],
   "source": [
    "sagemaker_client.describe_endpoint(EndpointName=churn_endpoint_name)"
   ]
  },
  {
   "cell_type": "markdown",
   "metadata": {},
   "source": [
    "### Step 2. Update the existing live endpoint with the new endpoint configuration. Amazon SageMaker creates the required infrastructure for the new production variant and updates the weights without any downtime."
   ]
  },
  {
   "cell_type": "code",
   "execution_count": 60,
   "metadata": {},
   "outputs": [
    {
     "data": {
      "text/plain": [
       "{'EndpointArn': 'arn:aws:sagemaker:us-east-2:209970524256:endpoint/churn-model',\n",
       " 'ResponseMetadata': {'RequestId': 'a2aef234-6d7b-4765-ab09-48e9ec56516b',\n",
       "  'HTTPStatusCode': 200,\n",
       "  'HTTPHeaders': {'x-amzn-requestid': 'a2aef234-6d7b-4765-ab09-48e9ec56516b',\n",
       "   'content-type': 'application/x-amz-json-1.1',\n",
       "   'content-length': '79',\n",
       "   'date': 'Sun, 05 Jul 2020 17:29:19 GMT'},\n",
       "  'RetryAttempts': 0}}"
      ]
     },
     "execution_count": 60,
     "metadata": {},
     "output_type": "execute_result"
    }
   ],
   "source": [
    "sagemaker_client.update_endpoint(EndpointName=churn_endpoint_name,\n",
    "                                 EndpointConfigName=blue_green_endpoint_config)"
   ]
  },
  {
   "cell_type": "code",
   "execution_count": 61,
   "metadata": {},
   "outputs": [
    {
     "data": {
      "text/plain": [
       "{'EndpointName': 'churn-model',\n",
       " 'EndpointArn': 'arn:aws:sagemaker:us-east-2:209970524256:endpoint/churn-model',\n",
       " 'EndpointConfigName': 'blue-green',\n",
       " 'ProductionVariants': [{'VariantName': 'blue',\n",
       "   'DeployedImages': [{'SpecifiedImage': '257758044811.dkr.ecr.us-east-2.amazonaws.com/sagemaker-xgboost:0.90-2-cpu-py3',\n",
       "     'ResolvedImage': '257758044811.dkr.ecr.us-east-2.amazonaws.com/sagemaker-xgboost@sha256:3c733d0214998ee69e8cf53864c666ae238e3b360bfcd453f9321fbf9d953536',\n",
       "     'ResolutionTime': datetime.datetime(2020, 7, 5, 17, 29, 22, 171000, tzinfo=tzlocal())}],\n",
       "   'CurrentWeight': 1.0,\n",
       "   'DesiredWeight': 1.0,\n",
       "   'CurrentInstanceCount': 1,\n",
       "   'DesiredInstanceCount': 1},\n",
       "  {'VariantName': 'green',\n",
       "   'DeployedImages': [{'SpecifiedImage': '257758044811.dkr.ecr.us-east-2.amazonaws.com/sagemaker-xgboost:0.90-2-cpu-py3',\n",
       "     'ResolvedImage': '257758044811.dkr.ecr.us-east-2.amazonaws.com/sagemaker-xgboost@sha256:3c733d0214998ee69e8cf53864c666ae238e3b360bfcd453f9321fbf9d953536',\n",
       "     'ResolutionTime': datetime.datetime(2020, 7, 5, 17, 29, 22, 171000, tzinfo=tzlocal())}],\n",
       "   'CurrentWeight': 0.0,\n",
       "   'DesiredWeight': 0.0,\n",
       "   'CurrentInstanceCount': 1,\n",
       "   'DesiredInstanceCount': 1}],\n",
       " 'EndpointStatus': 'InService',\n",
       " 'CreationTime': datetime.datetime(2020, 7, 5, 13, 35, 1, 424000, tzinfo=tzlocal()),\n",
       " 'LastModifiedTime': datetime.datetime(2020, 7, 5, 17, 38, 33, 635000, tzinfo=tzlocal()),\n",
       " 'ResponseMetadata': {'RequestId': '628334d6-399b-4e6b-9bfa-efe413fc8f5d',\n",
       "  'HTTPStatusCode': 200,\n",
       "  'HTTPHeaders': {'x-amzn-requestid': '628334d6-399b-4e6b-9bfa-efe413fc8f5d',\n",
       "   'content-type': 'application/x-amz-json-1.1',\n",
       "   'content-length': '1099',\n",
       "   'date': 'Sun, 05 Jul 2020 17:42:03 GMT'},\n",
       "  'RetryAttempts': 0}}"
      ]
     },
     "execution_count": 61,
     "metadata": {},
     "output_type": "execute_result"
    }
   ],
   "source": [
    "sagemaker_client.describe_endpoint(EndpointName=churn_endpoint_name)"
   ]
  },
  {
   "cell_type": "markdown",
   "metadata": {},
   "source": [
    "### Step 3. Gradually move over traffic."
   ]
  },
  {
   "cell_type": "code",
   "execution_count": 62,
   "metadata": {},
   "outputs": [
    {
     "data": {
      "text/plain": [
       "{'EndpointArn': 'arn:aws:sagemaker:us-east-2:209970524256:endpoint/churn-model',\n",
       " 'ResponseMetadata': {'RequestId': '3842cb36-043c-4695-9dae-e7c3d2add52b',\n",
       "  'HTTPStatusCode': 200,\n",
       "  'HTTPHeaders': {'x-amzn-requestid': '3842cb36-043c-4695-9dae-e7c3d2add52b',\n",
       "   'content-type': 'application/x-amz-json-1.1',\n",
       "   'content-length': '79',\n",
       "   'date': 'Sun, 05 Jul 2020 17:42:08 GMT'},\n",
       "  'RetryAttempts': 0}}"
      ]
     },
     "execution_count": 62,
     "metadata": {},
     "output_type": "execute_result"
    }
   ],
   "source": [
    "sagemaker_client.update_endpoint_weights_and_capacities(\n",
    "    EndpointName=churn_endpoint_name,\n",
    "    DesiredWeightsAndCapacities=[\n",
    "        {\n",
    "            'VariantName': 'blue',\n",
    "            'DesiredWeight': 0.75\n",
    "        },\n",
    "        {\n",
    "            'VariantName': 'green',\n",
    "            'DesiredWeight': 0.25\n",
    "        }\n",
    "    ]\n",
    ")"
   ]
  },
  {
   "cell_type": "code",
   "execution_count": 63,
   "metadata": {},
   "outputs": [
    {
     "data": {
      "text/plain": [
       "{'EndpointName': 'churn-model',\n",
       " 'EndpointArn': 'arn:aws:sagemaker:us-east-2:209970524256:endpoint/churn-model',\n",
       " 'EndpointConfigName': 'blue-green',\n",
       " 'ProductionVariants': [{'VariantName': 'blue',\n",
       "   'DeployedImages': [{'SpecifiedImage': '257758044811.dkr.ecr.us-east-2.amazonaws.com/sagemaker-xgboost:0.90-2-cpu-py3',\n",
       "     'ResolvedImage': '257758044811.dkr.ecr.us-east-2.amazonaws.com/sagemaker-xgboost@sha256:3c733d0214998ee69e8cf53864c666ae238e3b360bfcd453f9321fbf9d953536',\n",
       "     'ResolutionTime': datetime.datetime(2020, 7, 5, 17, 29, 22, 171000, tzinfo=tzlocal())}],\n",
       "   'CurrentWeight': 0.75,\n",
       "   'DesiredWeight': 0.75,\n",
       "   'CurrentInstanceCount': 1,\n",
       "   'DesiredInstanceCount': 1},\n",
       "  {'VariantName': 'green',\n",
       "   'DeployedImages': [{'SpecifiedImage': '257758044811.dkr.ecr.us-east-2.amazonaws.com/sagemaker-xgboost:0.90-2-cpu-py3',\n",
       "     'ResolvedImage': '257758044811.dkr.ecr.us-east-2.amazonaws.com/sagemaker-xgboost@sha256:3c733d0214998ee69e8cf53864c666ae238e3b360bfcd453f9321fbf9d953536',\n",
       "     'ResolutionTime': datetime.datetime(2020, 7, 5, 17, 29, 22, 171000, tzinfo=tzlocal())}],\n",
       "   'CurrentWeight': 0.25,\n",
       "   'DesiredWeight': 0.25,\n",
       "   'CurrentInstanceCount': 1,\n",
       "   'DesiredInstanceCount': 1}],\n",
       " 'EndpointStatus': 'InService',\n",
       " 'CreationTime': datetime.datetime(2020, 7, 5, 13, 35, 1, 424000, tzinfo=tzlocal()),\n",
       " 'LastModifiedTime': datetime.datetime(2020, 7, 5, 17, 43, 10, 139000, tzinfo=tzlocal()),\n",
       " 'ResponseMetadata': {'RequestId': '7b34b4fc-04bd-4e39-9345-0773e5fe6fdb',\n",
       "  'HTTPStatusCode': 200,\n",
       "  'HTTPHeaders': {'x-amzn-requestid': '7b34b4fc-04bd-4e39-9345-0773e5fe6fdb',\n",
       "   'content-type': 'application/x-amz-json-1.1',\n",
       "   'content-length': '1103',\n",
       "   'date': 'Sun, 05 Jul 2020 17:54:53 GMT'},\n",
       "  'RetryAttempts': 0}}"
      ]
     },
     "execution_count": 63,
     "metadata": {},
     "output_type": "execute_result"
    }
   ],
   "source": [
    "sagemaker_client.describe_endpoint(EndpointName=churn_endpoint_name)"
   ]
  },
  {
   "cell_type": "code",
   "execution_count": 64,
   "metadata": {},
   "outputs": [
    {
     "data": {
      "text/plain": [
       "{'EndpointArn': 'arn:aws:sagemaker:us-east-2:209970524256:endpoint/churn-model',\n",
       " 'ResponseMetadata': {'RequestId': 'be2375d3-2938-402b-8466-76bef818f4d5',\n",
       "  'HTTPStatusCode': 200,\n",
       "  'HTTPHeaders': {'x-amzn-requestid': 'be2375d3-2938-402b-8466-76bef818f4d5',\n",
       "   'content-type': 'application/x-amz-json-1.1',\n",
       "   'content-length': '79',\n",
       "   'date': 'Sun, 05 Jul 2020 17:54:59 GMT'},\n",
       "  'RetryAttempts': 0}}"
      ]
     },
     "execution_count": 64,
     "metadata": {},
     "output_type": "execute_result"
    }
   ],
   "source": [
    "sagemaker_client.update_endpoint_weights_and_capacities(\n",
    "    EndpointName=churn_endpoint_name,\n",
    "    DesiredWeightsAndCapacities=[\n",
    "        {\n",
    "            'VariantName': 'blue',\n",
    "            'DesiredWeight': 0.25\n",
    "        },\n",
    "        {\n",
    "            'VariantName': 'green',\n",
    "            'DesiredWeight': 0.75\n",
    "        }\n",
    "    ]\n",
    ")"
   ]
  },
  {
   "cell_type": "code",
   "execution_count": 65,
   "metadata": {},
   "outputs": [
    {
     "data": {
      "text/plain": [
       "{'EndpointName': 'churn-model',\n",
       " 'EndpointArn': 'arn:aws:sagemaker:us-east-2:209970524256:endpoint/churn-model',\n",
       " 'EndpointConfigName': 'blue-green',\n",
       " 'ProductionVariants': [{'VariantName': 'blue',\n",
       "   'DeployedImages': [{'SpecifiedImage': '257758044811.dkr.ecr.us-east-2.amazonaws.com/sagemaker-xgboost:0.90-2-cpu-py3',\n",
       "     'ResolvedImage': '257758044811.dkr.ecr.us-east-2.amazonaws.com/sagemaker-xgboost@sha256:3c733d0214998ee69e8cf53864c666ae238e3b360bfcd453f9321fbf9d953536',\n",
       "     'ResolutionTime': datetime.datetime(2020, 7, 5, 17, 29, 22, 171000, tzinfo=tzlocal())}],\n",
       "   'CurrentWeight': 0.25,\n",
       "   'DesiredWeight': 0.25,\n",
       "   'CurrentInstanceCount': 1,\n",
       "   'DesiredInstanceCount': 1},\n",
       "  {'VariantName': 'green',\n",
       "   'DeployedImages': [{'SpecifiedImage': '257758044811.dkr.ecr.us-east-2.amazonaws.com/sagemaker-xgboost:0.90-2-cpu-py3',\n",
       "     'ResolvedImage': '257758044811.dkr.ecr.us-east-2.amazonaws.com/sagemaker-xgboost@sha256:3c733d0214998ee69e8cf53864c666ae238e3b360bfcd453f9321fbf9d953536',\n",
       "     'ResolutionTime': datetime.datetime(2020, 7, 5, 17, 29, 22, 171000, tzinfo=tzlocal())}],\n",
       "   'CurrentWeight': 0.75,\n",
       "   'DesiredWeight': 0.75,\n",
       "   'CurrentInstanceCount': 1,\n",
       "   'DesiredInstanceCount': 1}],\n",
       " 'EndpointStatus': 'InService',\n",
       " 'CreationTime': datetime.datetime(2020, 7, 5, 13, 35, 1, 424000, tzinfo=tzlocal()),\n",
       " 'LastModifiedTime': datetime.datetime(2020, 7, 5, 17, 56, 1, 450000, tzinfo=tzlocal()),\n",
       " 'ResponseMetadata': {'RequestId': '6d44c68e-c486-4215-b2f1-72b79775539a',\n",
       "  'HTTPStatusCode': 200,\n",
       "  'HTTPHeaders': {'x-amzn-requestid': '6d44c68e-c486-4215-b2f1-72b79775539a',\n",
       "   'content-type': 'application/x-amz-json-1.1',\n",
       "   'content-length': '1102',\n",
       "   'date': 'Sun, 05 Jul 2020 18:30:48 GMT'},\n",
       "  'RetryAttempts': 0}}"
      ]
     },
     "execution_count": 65,
     "metadata": {},
     "output_type": "execute_result"
    }
   ],
   "source": [
    "sagemaker_client.describe_endpoint(EndpointName=churn_endpoint_name)"
   ]
  },
  {
   "cell_type": "markdown",
   "metadata": {},
   "source": [
    "### Step 4. Create a new endpoint configuration with only the new production variant and apply it to the endpoint. "
   ]
  },
  {
   "cell_type": "code",
   "execution_count": 66,
   "metadata": {},
   "outputs": [
    {
     "data": {
      "text/plain": [
       "{'EndpointArn': 'arn:aws:sagemaker:us-east-2:209970524256:endpoint/churn-model',\n",
       " 'ResponseMetadata': {'RequestId': 'edf8f841-e343-4917-9e74-b74f2db54668',\n",
       "  'HTTPStatusCode': 200,\n",
       "  'HTTPHeaders': {'x-amzn-requestid': 'edf8f841-e343-4917-9e74-b74f2db54668',\n",
       "   'content-type': 'application/x-amz-json-1.1',\n",
       "   'content-length': '79',\n",
       "   'date': 'Sun, 05 Jul 2020 18:31:01 GMT'},\n",
       "  'RetryAttempts': 0}}"
      ]
     },
     "execution_count": 66,
     "metadata": {},
     "output_type": "execute_result"
    }
   ],
   "source": [
    "sagemaker_client.update_endpoint(EndpointName=churn_endpoint_name,\n",
    "                                 EndpointConfigName=model_B_endpoint['EndpointConfigName'])"
   ]
  },
  {
   "cell_type": "code",
   "execution_count": 67,
   "metadata": {},
   "outputs": [
    {
     "data": {
      "text/plain": [
       "{'EndpointName': 'churn-model',\n",
       " 'EndpointArn': 'arn:aws:sagemaker:us-east-2:209970524256:endpoint/churn-model',\n",
       " 'EndpointConfigName': 'endpoint-model-B',\n",
       " 'ProductionVariants': [{'VariantName': 'AllTraffic',\n",
       "   'DeployedImages': [{'SpecifiedImage': '257758044811.dkr.ecr.us-east-2.amazonaws.com/sagemaker-xgboost:0.90-2-cpu-py3',\n",
       "     'ResolvedImage': '257758044811.dkr.ecr.us-east-2.amazonaws.com/sagemaker-xgboost@sha256:3c733d0214998ee69e8cf53864c666ae238e3b360bfcd453f9321fbf9d953536',\n",
       "     'ResolutionTime': datetime.datetime(2020, 7, 5, 18, 31, 4, 298000, tzinfo=tzlocal())}],\n",
       "   'CurrentWeight': 1.0,\n",
       "   'DesiredWeight': 1.0,\n",
       "   'CurrentInstanceCount': 1,\n",
       "   'DesiredInstanceCount': 1}],\n",
       " 'EndpointStatus': 'InService',\n",
       " 'CreationTime': datetime.datetime(2020, 7, 5, 13, 35, 1, 424000, tzinfo=tzlocal()),\n",
       " 'LastModifiedTime': datetime.datetime(2020, 7, 5, 18, 37, 11, 327000, tzinfo=tzlocal()),\n",
       " 'ResponseMetadata': {'RequestId': '5e3ef212-5eb0-446d-9fe1-60b6d23a5527',\n",
       "  'HTTPStatusCode': 200,\n",
       "  'HTTPHeaders': {'x-amzn-requestid': '5e3ef212-5eb0-446d-9fe1-60b6d23a5527',\n",
       "   'content-type': 'application/x-amz-json-1.1',\n",
       "   'content-length': '692',\n",
       "   'date': 'Sun, 05 Jul 2020 18:58:26 GMT'},\n",
       "  'RetryAttempts': 0}}"
      ]
     },
     "execution_count": 67,
     "metadata": {},
     "output_type": "execute_result"
    }
   ],
   "source": [
    "sagemaker_client.describe_endpoint(EndpointName=churn_endpoint_name)"
   ]
  },
  {
   "cell_type": "code",
   "execution_count": null,
   "metadata": {},
   "outputs": [],
   "source": []
  }
 ],
 "metadata": {
  "instance_type": "ml.t3.medium",
  "kernelspec": {
   "display_name": "Python 3 (Data Science)",
   "language": "python",
   "name": "python3__SAGEMAKER_INTERNAL__arn:aws:sagemaker:us-east-2:429704687514:image/datascience-1.0"
  },
  "language_info": {
   "codemirror_mode": {
    "name": "ipython",
    "version": 3
   },
   "file_extension": ".py",
   "mimetype": "text/x-python",
   "name": "python",
   "nbconvert_exporter": "python",
   "pygments_lexer": "ipython3",
   "version": "3.7.6"
  }
 },
 "nbformat": 4,
 "nbformat_minor": 4
}
